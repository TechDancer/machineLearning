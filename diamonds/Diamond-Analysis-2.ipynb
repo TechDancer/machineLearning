{
 "cells": [
  {
   "cell_type": "markdown",
   "metadata": {},
   "source": [
    "# Part 2 -- Training the Model"
   ]
  },
  {
   "cell_type": "code",
   "execution_count": 2,
   "metadata": {
    "scrolled": true
   },
   "outputs": [
    {
     "data": {
      "text/html": [
       "<div>\n",
       "<style scoped>\n",
       "    .dataframe tbody tr th:only-of-type {\n",
       "        vertical-align: middle;\n",
       "    }\n",
       "\n",
       "    .dataframe tbody tr th {\n",
       "        vertical-align: top;\n",
       "    }\n",
       "\n",
       "    .dataframe thead th {\n",
       "        text-align: right;\n",
       "    }\n",
       "</style>\n",
       "<table border=\"1\" class=\"dataframe\">\n",
       "  <thead>\n",
       "    <tr style=\"text-align: right;\">\n",
       "      <th></th>\n",
       "      <th>carat</th>\n",
       "      <th>price</th>\n",
       "      <th>cut__Fair</th>\n",
       "      <th>cut__Good</th>\n",
       "      <th>cut__Ideal</th>\n",
       "      <th>cut__Premium</th>\n",
       "      <th>cut__Very Good</th>\n",
       "      <th>color__D</th>\n",
       "      <th>color__E</th>\n",
       "      <th>color__F</th>\n",
       "      <th>...</th>\n",
       "      <th>color__I</th>\n",
       "      <th>color__J</th>\n",
       "      <th>clarity__I1</th>\n",
       "      <th>clarity__IF</th>\n",
       "      <th>clarity__SI1</th>\n",
       "      <th>clarity__SI2</th>\n",
       "      <th>clarity__VS1</th>\n",
       "      <th>clarity__VS2</th>\n",
       "      <th>clarity__VVS1</th>\n",
       "      <th>clarity__VVS2</th>\n",
       "    </tr>\n",
       "  </thead>\n",
       "  <tbody>\n",
       "    <tr>\n",
       "      <th>count</th>\n",
       "      <td>53917.000000</td>\n",
       "      <td>53917.000000</td>\n",
       "      <td>53917.000000</td>\n",
       "      <td>53917.000000</td>\n",
       "      <td>53917.000000</td>\n",
       "      <td>53917.000000</td>\n",
       "      <td>53917.000000</td>\n",
       "      <td>53917.000000</td>\n",
       "      <td>53917.000000</td>\n",
       "      <td>53917.000000</td>\n",
       "      <td>...</td>\n",
       "      <td>53917.000000</td>\n",
       "      <td>53917.000000</td>\n",
       "      <td>53917.000000</td>\n",
       "      <td>53917.000000</td>\n",
       "      <td>53917.000000</td>\n",
       "      <td>53917.000000</td>\n",
       "      <td>53917.000000</td>\n",
       "      <td>53917.000000</td>\n",
       "      <td>53917.000000</td>\n",
       "      <td>53917.000000</td>\n",
       "    </tr>\n",
       "    <tr>\n",
       "      <th>mean</th>\n",
       "      <td>0.797687</td>\n",
       "      <td>3930.910474</td>\n",
       "      <td>0.029842</td>\n",
       "      <td>0.090918</td>\n",
       "      <td>0.399633</td>\n",
       "      <td>0.255559</td>\n",
       "      <td>0.224048</td>\n",
       "      <td>0.125638</td>\n",
       "      <td>0.181668</td>\n",
       "      <td>0.176902</td>\n",
       "      <td>...</td>\n",
       "      <td>0.100543</td>\n",
       "      <td>0.052080</td>\n",
       "      <td>0.013688</td>\n",
       "      <td>0.033199</td>\n",
       "      <td>0.242280</td>\n",
       "      <td>0.170336</td>\n",
       "      <td>0.151492</td>\n",
       "      <td>0.227275</td>\n",
       "      <td>0.067771</td>\n",
       "      <td>0.093959</td>\n",
       "    </tr>\n",
       "    <tr>\n",
       "      <th>std</th>\n",
       "      <td>0.473777</td>\n",
       "      <td>3987.215003</td>\n",
       "      <td>0.170153</td>\n",
       "      <td>0.287494</td>\n",
       "      <td>0.489827</td>\n",
       "      <td>0.436179</td>\n",
       "      <td>0.416958</td>\n",
       "      <td>0.331444</td>\n",
       "      <td>0.385574</td>\n",
       "      <td>0.381589</td>\n",
       "      <td>...</td>\n",
       "      <td>0.300726</td>\n",
       "      <td>0.222191</td>\n",
       "      <td>0.116192</td>\n",
       "      <td>0.179158</td>\n",
       "      <td>0.428467</td>\n",
       "      <td>0.375931</td>\n",
       "      <td>0.358531</td>\n",
       "      <td>0.419076</td>\n",
       "      <td>0.251355</td>\n",
       "      <td>0.291775</td>\n",
       "    </tr>\n",
       "    <tr>\n",
       "      <th>min</th>\n",
       "      <td>0.200000</td>\n",
       "      <td>326.000000</td>\n",
       "      <td>0.000000</td>\n",
       "      <td>0.000000</td>\n",
       "      <td>0.000000</td>\n",
       "      <td>0.000000</td>\n",
       "      <td>0.000000</td>\n",
       "      <td>0.000000</td>\n",
       "      <td>0.000000</td>\n",
       "      <td>0.000000</td>\n",
       "      <td>...</td>\n",
       "      <td>0.000000</td>\n",
       "      <td>0.000000</td>\n",
       "      <td>0.000000</td>\n",
       "      <td>0.000000</td>\n",
       "      <td>0.000000</td>\n",
       "      <td>0.000000</td>\n",
       "      <td>0.000000</td>\n",
       "      <td>0.000000</td>\n",
       "      <td>0.000000</td>\n",
       "      <td>0.000000</td>\n",
       "    </tr>\n",
       "    <tr>\n",
       "      <th>25%</th>\n",
       "      <td>0.400000</td>\n",
       "      <td>949.000000</td>\n",
       "      <td>0.000000</td>\n",
       "      <td>0.000000</td>\n",
       "      <td>0.000000</td>\n",
       "      <td>0.000000</td>\n",
       "      <td>0.000000</td>\n",
       "      <td>0.000000</td>\n",
       "      <td>0.000000</td>\n",
       "      <td>0.000000</td>\n",
       "      <td>...</td>\n",
       "      <td>0.000000</td>\n",
       "      <td>0.000000</td>\n",
       "      <td>0.000000</td>\n",
       "      <td>0.000000</td>\n",
       "      <td>0.000000</td>\n",
       "      <td>0.000000</td>\n",
       "      <td>0.000000</td>\n",
       "      <td>0.000000</td>\n",
       "      <td>0.000000</td>\n",
       "      <td>0.000000</td>\n",
       "    </tr>\n",
       "    <tr>\n",
       "      <th>50%</th>\n",
       "      <td>0.700000</td>\n",
       "      <td>2401.000000</td>\n",
       "      <td>0.000000</td>\n",
       "      <td>0.000000</td>\n",
       "      <td>0.000000</td>\n",
       "      <td>0.000000</td>\n",
       "      <td>0.000000</td>\n",
       "      <td>0.000000</td>\n",
       "      <td>0.000000</td>\n",
       "      <td>0.000000</td>\n",
       "      <td>...</td>\n",
       "      <td>0.000000</td>\n",
       "      <td>0.000000</td>\n",
       "      <td>0.000000</td>\n",
       "      <td>0.000000</td>\n",
       "      <td>0.000000</td>\n",
       "      <td>0.000000</td>\n",
       "      <td>0.000000</td>\n",
       "      <td>0.000000</td>\n",
       "      <td>0.000000</td>\n",
       "      <td>0.000000</td>\n",
       "    </tr>\n",
       "    <tr>\n",
       "      <th>75%</th>\n",
       "      <td>1.040000</td>\n",
       "      <td>5323.000000</td>\n",
       "      <td>0.000000</td>\n",
       "      <td>0.000000</td>\n",
       "      <td>1.000000</td>\n",
       "      <td>1.000000</td>\n",
       "      <td>0.000000</td>\n",
       "      <td>0.000000</td>\n",
       "      <td>0.000000</td>\n",
       "      <td>0.000000</td>\n",
       "      <td>...</td>\n",
       "      <td>0.000000</td>\n",
       "      <td>0.000000</td>\n",
       "      <td>0.000000</td>\n",
       "      <td>0.000000</td>\n",
       "      <td>0.000000</td>\n",
       "      <td>0.000000</td>\n",
       "      <td>0.000000</td>\n",
       "      <td>0.000000</td>\n",
       "      <td>0.000000</td>\n",
       "      <td>0.000000</td>\n",
       "    </tr>\n",
       "    <tr>\n",
       "      <th>max</th>\n",
       "      <td>5.010000</td>\n",
       "      <td>18823.000000</td>\n",
       "      <td>1.000000</td>\n",
       "      <td>1.000000</td>\n",
       "      <td>1.000000</td>\n",
       "      <td>1.000000</td>\n",
       "      <td>1.000000</td>\n",
       "      <td>1.000000</td>\n",
       "      <td>1.000000</td>\n",
       "      <td>1.000000</td>\n",
       "      <td>...</td>\n",
       "      <td>1.000000</td>\n",
       "      <td>1.000000</td>\n",
       "      <td>1.000000</td>\n",
       "      <td>1.000000</td>\n",
       "      <td>1.000000</td>\n",
       "      <td>1.000000</td>\n",
       "      <td>1.000000</td>\n",
       "      <td>1.000000</td>\n",
       "      <td>1.000000</td>\n",
       "      <td>1.000000</td>\n",
       "    </tr>\n",
       "  </tbody>\n",
       "</table>\n",
       "<p>8 rows × 22 columns</p>\n",
       "</div>"
      ],
      "text/plain": [
       "              carat         price     cut__Fair     cut__Good    cut__Ideal  \\\n",
       "count  53917.000000  53917.000000  53917.000000  53917.000000  53917.000000   \n",
       "mean       0.797687   3930.910474      0.029842      0.090918      0.399633   \n",
       "std        0.473777   3987.215003      0.170153      0.287494      0.489827   \n",
       "min        0.200000    326.000000      0.000000      0.000000      0.000000   \n",
       "25%        0.400000    949.000000      0.000000      0.000000      0.000000   \n",
       "50%        0.700000   2401.000000      0.000000      0.000000      0.000000   \n",
       "75%        1.040000   5323.000000      0.000000      0.000000      1.000000   \n",
       "max        5.010000  18823.000000      1.000000      1.000000      1.000000   \n",
       "\n",
       "       cut__Premium  cut__Very Good      color__D      color__E      color__F  \\\n",
       "count  53917.000000    53917.000000  53917.000000  53917.000000  53917.000000   \n",
       "mean       0.255559        0.224048      0.125638      0.181668      0.176902   \n",
       "std        0.436179        0.416958      0.331444      0.385574      0.381589   \n",
       "min        0.000000        0.000000      0.000000      0.000000      0.000000   \n",
       "25%        0.000000        0.000000      0.000000      0.000000      0.000000   \n",
       "50%        0.000000        0.000000      0.000000      0.000000      0.000000   \n",
       "75%        1.000000        0.000000      0.000000      0.000000      0.000000   \n",
       "max        1.000000        1.000000      1.000000      1.000000      1.000000   \n",
       "\n",
       "       ...      color__I      color__J   clarity__I1   clarity__IF  \\\n",
       "count  ...  53917.000000  53917.000000  53917.000000  53917.000000   \n",
       "mean   ...      0.100543      0.052080      0.013688      0.033199   \n",
       "std    ...      0.300726      0.222191      0.116192      0.179158   \n",
       "min    ...      0.000000      0.000000      0.000000      0.000000   \n",
       "25%    ...      0.000000      0.000000      0.000000      0.000000   \n",
       "50%    ...      0.000000      0.000000      0.000000      0.000000   \n",
       "75%    ...      0.000000      0.000000      0.000000      0.000000   \n",
       "max    ...      1.000000      1.000000      1.000000      1.000000   \n",
       "\n",
       "       clarity__SI1  clarity__SI2  clarity__VS1  clarity__VS2  clarity__VVS1  \\\n",
       "count  53917.000000  53917.000000  53917.000000  53917.000000   53917.000000   \n",
       "mean       0.242280      0.170336      0.151492      0.227275       0.067771   \n",
       "std        0.428467      0.375931      0.358531      0.419076       0.251355   \n",
       "min        0.000000      0.000000      0.000000      0.000000       0.000000   \n",
       "25%        0.000000      0.000000      0.000000      0.000000       0.000000   \n",
       "50%        0.000000      0.000000      0.000000      0.000000       0.000000   \n",
       "75%        0.000000      0.000000      0.000000      0.000000       0.000000   \n",
       "max        1.000000      1.000000      1.000000      1.000000       1.000000   \n",
       "\n",
       "       clarity__VVS2  \n",
       "count   53917.000000  \n",
       "mean        0.093959  \n",
       "std         0.291775  \n",
       "min         0.000000  \n",
       "25%         0.000000  \n",
       "50%         0.000000  \n",
       "75%         0.000000  \n",
       "max         1.000000  \n",
       "\n",
       "[8 rows x 22 columns]"
      ]
     },
     "execution_count": 2,
     "metadata": {},
     "output_type": "execute_result"
    }
   ],
   "source": [
    "import pandas as pd\n",
    "diamonds = pd.read_csv('diamonds-1a.csv')\n",
    "diamonds = diamonds.drop(columns=['Unnamed: 0'])\n",
    "diamonds.head()\n",
    "diamonds.describe()"
   ]
  },
  {
   "cell_type": "markdown",
   "metadata": {},
   "source": [
    "## Trial1. Train w/ just 1 feature (Carat)"
   ]
  },
  {
   "cell_type": "code",
   "execution_count": 6,
   "metadata": {},
   "outputs": [
    {
     "name": "stdout",
     "output_type": "stream",
     "text": [
      "Score:  0.9187743277836133\n"
     ]
    },
    {
     "data": {
      "image/png": "[encoded data removed]",
      "text/plain": [
       "<Figure size 432x288 with 1 Axes>"
      ]
     },
     "metadata": {
      "needs_background": "light"
     },
     "output_type": "display_data"
    },
    {
     "name": "stdout",
     "output_type": "stream",
     "text": [
      "Mean squared error: 708335.77\n",
      "Variance score: 0.92\n",
      "       carat\n",
      "14650   1.31\n",
      "52416   0.71\n",
      "          actual  predict         diff       diff%\n",
      "3    7904.568690     5916  1988.568690   25.157207\n",
      "16   3250.898130     2513   737.898130   22.698285\n",
      "6    3173.336954     1999  1174.336954   37.006374\n",
      "10  10231.403970     9005  1226.403970   11.986664\n",
      "2    7284.079282     6817   467.079282    6.412331\n",
      "14   9533.353386     9405   128.353386    1.346361\n",
      "4    -394.477141      552  -946.477141  239.932063\n",
      "             price\n",
      "count    20.000000\n",
      "mean   3520.950000\n",
      "std    3029.780233\n",
      "min     552.000000\n",
      "25%    1219.500000\n",
      "50%    1906.500000\n",
      "75%    6059.500000\n",
      "max    9405.000000\n"
     ]
    }
   ],
   "source": [
    "from sklearn.utils import shuffle\n",
    "import matplotlib.pyplot as plt\n",
    "import matplotlib.pyplot as plt\n",
    "import pandas as pd\n",
    "import numpy as np\n",
    "from myutils import run_linear2\n",
    "%matplotlib inline    \n",
    "\n",
    "diamonds = pd.read_csv('diamonds-1a.csv')\n",
    "diamonds = shuffle(diamonds, random_state=0)   # is this a repeatable shuffle by defautl w/o param\n",
    "data = diamonds['carat'].to_frame()\n",
    "target = diamonds['price'].to_frame()\n",
    "run_linear2(data, target)\n"
   ]
  },
  {
   "cell_type": "markdown",
   "metadata": {},
   "source": [
    "Just carat alone gives you 92% accuracy !\n",
    "\n",
    "## Trial2. Train with all features\n",
    "\n",
    "Now train w/ all the columns (onehot encoding the categorical/ordinaral columns Color, Cut, Clarity) and dropping x,y,z,depth for now\n"
   ]
  },
  {
   "cell_type": "code",
   "execution_count": 7,
   "metadata": {
    "scrolled": true
   },
   "outputs": [
    {
     "name": "stdout",
     "output_type": "stream",
     "text": [
      "Score:  0.9760420391678098\n"
     ]
    },
    {
     "data": {
      "image/png": "[encoded data removed]",
      "text/plain": [
       "<Figure size 432x288 with 1 Axes>"
      ]
     },
     "metadata": {
      "needs_background": "light"
     },
     "output_type": "display_data"
    },
    {
     "name": "stdout",
     "output_type": "stream",
     "text": [
      "Mean squared error: 208927.55\n",
      "Variance score: 0.98\n",
      "       carat  cut__Fair  cut__Good  cut__Ideal  cut__Premium  cut__Very Good  \\\n",
      "14650   1.31          0          0           0             0               1   \n",
      "52416   0.71          0          0           1             0               0   \n",
      "\n",
      "       color__D  color__E  color__F  color__G  ...  color__I  color__J  \\\n",
      "14650         0         0         0         0  ...         1         0   \n",
      "52416         0         0         0         1  ...         0         0   \n",
      "\n",
      "       clarity__I1  clarity__IF  clarity__SI1  clarity__SI2  clarity__VS1  \\\n",
      "14650            0            0             0             1             0   \n",
      "52416            0            0             1             0             0   \n",
      "\n",
      "       clarity__VS2  clarity__VVS1  clarity__VVS2  \n",
      "14650             0              0              0  \n",
      "52416             0              0              0  \n",
      "\n",
      "[2 rows x 21 columns]\n",
      "    actual  predict   diff      diff%\n",
      "3   6312.0     5916  396.0   6.273764\n",
      "16  3000.0     2513  487.0  16.233333\n",
      "6   1836.0     1999 -163.0   8.877996\n",
      "10  9240.0     9005  235.0   2.543290\n",
      "2   7340.0     6817  523.0   7.125341\n",
      "14  9552.0     9405  147.0   1.538945\n",
      "4    376.0      552 -176.0  46.808511\n",
      "             price\n",
      "count    20.000000\n",
      "mean   3520.950000\n",
      "std    3029.780233\n",
      "min     552.000000\n",
      "25%    1219.500000\n",
      "50%    1906.500000\n",
      "75%    6059.500000\n",
      "max    9405.000000\n"
     ]
    }
   ],
   "source": [
    "import matplotlib.pyplot as plt\n",
    "import pandas as pd\n",
    "import numpy as np\n",
    "from sklearn.utils import shuffle\n",
    "from myutils import run_linear2 \n",
    "\n",
    "%matplotlib inline\n",
    "\n",
    "diamonds = pd.read_csv('diamonds-1a.csv')\n",
    "diamonds = shuffle(diamonds, random_state=0)   # is this a repeatable shuffle by defautl w/o param\n",
    "data = diamonds.drop(columns=['Unnamed: 0', 'price'])\n",
    "target = diamonds['price'].to_frame()\n",
    "run_linear2(data, target)\n"
   ]
  },
  {
   "cell_type": "markdown",
   "metadata": {},
   "source": [
    "Mean squared error: 208927.55  208k not so great ?  well 98% accuracy is good!\n",
    "\n",
    "## Trial3. Use Standardization/Normalization of numeric (carat)\n",
    "\n",
    "Try normalizing using builtin flag.  I would think ordinal encoding of color would be better than onehot -- but not sounding so from scikit docs.  Otherwise jump to diff models like Ensembles\n"
   ]
  },
  {
   "cell_type": "code",
   "execution_count": 68,
   "metadata": {},
   "outputs": [
    {
     "name": "stdout",
     "output_type": "stream",
     "text": [
      "Score:  0.9760102523271434\n"
     ]
    },
    {
     "data": {
      "image/png": "[encoded data removed]",
      "text/plain": [
       "<Figure size 432x288 with 1 Axes>"
      ]
     },
     "metadata": {
      "needs_background": "light"
     },
     "output_type": "display_data"
    },
    {
     "name": "stdout",
     "output_type": "stream",
     "text": [
      "Mean squared error: 209204.75\n",
      "Variance score: 0.98\n",
      "       carat  cut__Fair  cut__Good  cut__Ideal  cut__Premium  cut__Very Good  \\\n",
      "14650   1.31          0          0           0             0               1   \n",
      "52416   0.71          0          0           1             0               0   \n",
      "\n",
      "       color__D  color__E  color__F  color__G  ...  color__I  color__J  \\\n",
      "14650         0         0         0         0  ...         1         0   \n",
      "52416         0         0         0         1  ...         0         0   \n",
      "\n",
      "       clarity__I1  clarity__IF  clarity__SI1  clarity__SI2  clarity__VS1  \\\n",
      "14650            0            0             0             1             0   \n",
      "52416            0            0             1             0             0   \n",
      "\n",
      "       clarity__VS2  clarity__VVS1  clarity__VVS2  \n",
      "14650             0              0              0  \n",
      "52416             0              0              0  \n",
      "\n",
      "[2 rows x 21 columns]\n",
      "14650    5916\n",
      "52416    2513\n",
      "48600    1999\n",
      "20757    9005\n",
      "Name: price, dtype: int64\n",
      "         0\n",
      "3   6310.0\n",
      "16  3012.0\n",
      "6   1836.0\n",
      "10  9254.0\n",
      "count      20.000000\n",
      "mean     3520.950000\n",
      "std      3029.780233\n",
      "min       552.000000\n",
      "25%      1219.500000\n",
      "50%      1906.500000\n",
      "75%      6059.500000\n",
      "max      9405.000000\n",
      "Name: price, dtype: float64\n"
     ]
    }
   ],
   "source": [
    "# try built-in normalize\n",
    "run_linear(diamonds, norm=True)"
   ]
  },
  {
   "cell_type": "markdown",
   "metadata": {},
   "source": [
    "## Trial4.  The Super model: XGBoost -- will it be the savior ?\n",
    "\n",
    "I hate to jump to XGB -- but it tends to work lets take a look ?"
   ]
  },
  {
   "cell_type": "code",
   "execution_count": 133,
   "metadata": {
    "scrolled": true
   },
   "outputs": [
    {
     "name": "stdout",
     "output_type": "stream",
     "text": [
      "Score:  0.8265374103133327\n"
     ]
    },
    {
     "data": {
      "image/png": "[encoded data removed]",
      "text/plain": [
       "<Figure size 432x288 with 1 Axes>"
      ]
     },
     "metadata": {
      "needs_background": "light"
     },
     "output_type": "display_data"
    },
    {
     "data": {
      "image/png": "[encoded data removed]",
      "text/plain": [
       "<Figure size 1440x288 with 1 Axes>"
      ]
     },
     "metadata": {
      "needs_background": "light"
     },
     "output_type": "display_data"
    },
    {
     "data": {
      "text/plain": [
       "0.8265374103133327"
      ]
     },
     "execution_count": 133,
     "metadata": {},
     "output_type": "execute_result"
    }
   ],
   "source": [
    "import numpy as np\n",
    "from sklearn.metrics import mean_squared_error\n",
    "from sklearn.datasets import make_friedman1\n",
    "from sklearn.ensemble import GradientBoostingRegressor\n",
    "\n",
    "def run_emsemble(diamonds, norm=True, lr=0.1, ne=100, md=1, g=True):\n",
    "    X, y = diamonds, diamonds.price\n",
    "    X = X.drop(columns=['price','Unnamed: 0'])\n",
    "    X_train, X_test = X[:20], X[20:]\n",
    "    y_train, y_test = y[:20], y[20:]\n",
    "    est = GradientBoostingRegressor(n_estimators=ne, learning_rate=lr,\n",
    "        max_depth=md, random_state=8, loss='ls').fit(X_train, y_train)\n",
    "    score = est.score(X_test, y_test)\n",
    "    print('Score: ',score)\n",
    "    mean_squared_error(y_test, est.predict(X_test))    \n",
    "\n",
    "    if (g):\n",
    "        plt.plot(est.train_score_)\n",
    "        plt.title('training score')\n",
    "        plt.show()\n",
    "\n",
    "        index = np.arange(len(est.feature_importances_))\n",
    "        plt.figure(figsize=(20,4))\n",
    "        plt.bar(index, est.feature_importances_)\n",
    "        plt.title('feature importance (log)')\n",
    "        plt.xticks(index, X_test.columns, fontsize=11, rotation=30)\n",
    "        plt.yscale('log')\n",
    "        plt.show()\n",
    "\n",
    "    return score\n",
    "run_emsemble(diamonds, True, 0.1, 100, 1)\n",
    "\n"
   ]
  },
  {
   "cell_type": "markdown",
   "metadata": {},
   "source": [
    "82.6% Hmmm not better than linear regression w/ just 1 feature !\n",
    "\n",
    "## Trial 5.  How about a classic Random Forest ?"
   ]
  },
  {
   "cell_type": "code",
   "execution_count": 122,
   "metadata": {},
   "outputs": [
    {
     "name": "stdout",
     "output_type": "stream",
     "text": [
      "Score:  0.8153170087115502\n",
      "[9.47011513e-01 0.00000000e+00 8.68676043e-03 2.80128681e-02\n",
      " 0.00000000e+00 0.00000000e+00 0.00000000e+00 0.00000000e+00\n",
      " 4.10714367e-03 0.00000000e+00 5.60437131e-04 7.44731248e-04\n",
      " 0.00000000e+00 0.00000000e+00 0.00000000e+00 4.61054401e-03\n",
      " 0.00000000e+00 0.00000000e+00 6.26600293e-03 0.00000000e+00\n",
      " 0.00000000e+00]\n",
      "[1549.20837484 1502.39131942 1931.13988461 ... 1626.17203371 1639.72903371\n",
      " 1816.02617307]\n"
     ]
    }
   ],
   "source": [
    "from sklearn.ensemble import RandomForestRegressor\n",
    "\n",
    "X, y = diamonds, diamonds.price\n",
    "X = X.drop(columns=['price','Unnamed: 0'])\n",
    "X_train, X_test = X[:20], X[20:]\n",
    "y_train, y_test = y[:20], y[20:]\n",
    "\n",
    "regr = RandomForestRegressor(max_depth=2, random_state=8, n_estimators=100)\n",
    "regr.fit(X_train, y_train)  \n",
    "\n",
    "print('Score: ', regr.score(X_test, y_test))\n",
    "print(regr.feature_importances_)\n",
    "print(regr.predict(X_test))\n"
   ]
  },
  {
   "cell_type": "markdown",
   "metadata": {},
   "source": [
    "81.5% Blah this sucks\n",
    "\n",
    "## Trial 6.  Back to fine tuning the XGB\n",
    "\n",
    "But can I get it any higher than Multi-LinearRegression 98% ?"
   ]
  },
  {
   "cell_type": "code",
   "execution_count": 142,
   "metadata": {
    "scrolled": true
   },
   "outputs": [
    {
     "name": "stdout",
     "output_type": "stream",
     "text": [
      "Vary the learning rate\n",
      "Score:  0.6148354918351837\n",
      "Score:  0.8254283842102725\n",
      "Score:  0.8265374103133327\n",
      "Score:  0.8336066571801146\n",
      "Score:  0.8321623054308322\n",
      "Score:  0.7396221361864788\n",
      "Vary the estimators\n",
      "Score:  0.6309643355952674\n",
      "Score:  0.8260213171946986\n",
      "Score:  0.8265374103133327\n",
      "Score:  0.8301984851271415\n",
      "Score:  0.8357797265072995\n",
      "Score:  0.8413856333445588\n",
      "Vary the depth\n",
      "Score:  0.8265374103133327\n",
      "Score:  0.8577243705106666\n",
      "Score:  0.8546810017110337\n",
      "Score:  0.8117456590091041\n",
      "Score:  0.7796839388068351\n"
     ]
    },
    {
     "data": {
      "text/plain": [
       "[<matplotlib.lines.Line2D at 0x196d4584d08>]"
      ]
     },
     "execution_count": 142,
     "metadata": {},
     "output_type": "execute_result"
    },
    {
     "data": {
      "image/png": "[encoded data removed]",
      "text/plain": [
       "<Figure size 432x288 with 1 Axes>"
      ]
     },
     "metadata": {
      "needs_background": "light"
     },
     "output_type": "display_data"
    }
   ],
   "source": [
    "print('Vary the learning rate')\n",
    "scores = []\n",
    "for i in [0.01, 0.05, 0.1, 0.2, 0.4, 0.8]:\n",
    "    scores.append(run_emsemble(diamonds, True, i, 100, 1, False))\n",
    "plt.plot(scores)\n",
    "\n",
    "print('Vary the estimators')\n",
    "scores = []\n",
    "for i in [10, 50, 100, 150, 300, 1000]:\n",
    "    scores.append(run_emsemble(diamonds, True, 0.1, i, 1, False))\n",
    "plt.plot(scores)\n",
    "\n",
    "print('Vary the depth')\n",
    "scores = []\n",
    "for i in [1,2,3,4,5]:\n",
    "    scores.append(run_emsemble(diamonds, True, 0.1, 100, i, False))\n",
    "plt.plot(scores)\n"
   ]
  },
  {
   "cell_type": "markdown",
   "metadata": {},
   "source": [
    "My Analysis is that Linear Regression works pretty well and I dont know how to tune XGB to get a higher score.\n",
    "For now let me move to additional data.\n",
    "\n",
    "[Diamond-Analysis-3](Diamond-Analysis-3.ipynb)\n"
   ]
  }
 ],
 "metadata": {
  "kernelspec": {
   "display_name": "Python 3",
   "language": "python",
   "name": "python3"
  },
  "language_info": {
   "codemirror_mode": {
    "name": "ipython",
    "version": 3
   },
   "file_extension": ".py",
   "mimetype": "text/x-python",
   "name": "python",
   "nbconvert_exporter": "python",
   "pygments_lexer": "ipython3",
   "version": "3.7.4"
  }
 },
 "nbformat": 4,
 "nbformat_minor": 2
}
