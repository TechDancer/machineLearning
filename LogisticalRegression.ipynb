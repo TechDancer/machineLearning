{
 "cells": [
  {
   "cell_type": "markdown",
   "metadata": {},
   "source": [
    "## Logistical Regression \n",
    "\n",
    "Logistic Regression \n",
    "- Term \"Regression\" is a bad name for this, i dont think it has anything to do w/ <i>regression</i>\n",
    "- this is used to classify data in machine lerning - ie, figure out patterns or classify things like:\n",
    "    - is email spam (based on features like word counts, word frequency, etc as feature vectors\n",
    "    - is a song from author Lady Gaga or Clash based on word frequencies\n",
    "- Term \"Logistic\" = due to logistic function or sigmoid function to keep values between 0-1\n",
    "\n",
    "![sigmoid](https://upload.wikimedia.org/wikipedia/commons/thumb/8/88/Logistic-curve.svg/320px-Logistic-curve.svg.png)\n",
    "\n",
    "\n",
    "- Idea is similar to Linear Regression, formalizing terminology better:\n",
    "    - Given n features and m training examples\n",
    "    - Given your features X<sup>1</sup>..X<sup>n</sup>\n",
    "    - Given your weights/parameters O<sup>1</sup>..O<sup>n</sup> - I use O instead of Theta since I don't know greek\n",
    "    - Given the training set X<sub>1</sub>..X<sub>m</sub>\n",
    "    - Given a hypothesis h<sup>O</sup>(x) encompassing your O-weights and X-features\n",
    "        - like:  h<sub>O</sub>(x) = O<sup>0</sup> + O<sup>1</sup>X<sup>1</sup> + O<sup>2</sup>X<sup>2</sup> + O<sup>n</sup>X<sup>n</sup>\n",
    "    - Wrap the h inside the sigmoid function\n",
    "\\begin{equation*}\n",
    "z = \\frac{1}{(1-e^h)}\n",
    "\\end{equation*}\n",
    "    - Use the cost function C(O) = Y * (-log(h<sub>O</sub>(x))) + (1-Y)(log(h<sub>O</sub>(x)))\n",
    "    - Intuition with using -log(x) and log(x) as cost input to sigmoid is visible by viewing plots:\n",
    "\n",
    "\n"
   ]
  },
  {
   "cell_type": "code",
   "execution_count": 35,
   "metadata": {},
   "outputs": [
    {
     "data": {
      "text/plain": [
       "[<matplotlib.lines.Line2D at 0x7f49e131ed50>]"
      ]
     },
     "execution_count": 35,
     "metadata": {},
     "output_type": "execute_result"
    },
    {
     "data": {
      "image/png": "[encoded data removed]",
      "text/plain": [
       "<matplotlib.figure.Figure at 0x7f49e135e650>"
      ]
     },
     "metadata": {},
     "output_type": "display_data"
    }
   ],
   "source": [
    "%matplotlib inline\n",
    "import matplotlib.pyplot as plt\n",
    "import math\n",
    "\n",
    "# here males will be plotted as blue and femals as orange\n",
    "xs = range(1,120)\n",
    "xs = [x / 100.0 for x in xs]\n",
    "ys = [-math.log(x) for x in xs]\n",
    "plt.scatter(xs, ys)\n",
    "\n",
    "xs = range(-20,100)\n",
    "xs = [x / 100.0 for x in xs]\n",
    "ys = [-math.log(1-x) for x in xs]\n",
    "plt.xlabel('-log(x) and -log(1-x) functions')\n",
    "plt.scatter(xs, ys)\n",
    "\n",
    "plt.plot([0,0],[-1,5])\n",
    "plt.plot([1,1],[-1,5])"
   ]
  },
  {
   "cell_type": "markdown",
   "metadata": {},
   "source": [
    "- Looking cost function - if Y=1, the cost function evaluates to 1 * (-log(h<sub>O</sub>(x))) - or the blue line. \n",
    "- For each X<super>n</super> training example where expect Y=1:\n",
    "    - if x is large, h(x) is 0 (or <0).  Or has 0 cost.   \n",
    "    - If x is small (or close to 0), the cost skyrockets to be very large (infinity)\n",
    "- Conversely if expect Y = 0, wrong answers have super high cost, right predictions have 0 cost.  \n",
    "<i>I'm not sure I get it, but I guess you would never have a wrong guess of 0 or 1 when expecting 1 or 0 ??</i>\n",
    "\n",
    "### Gradient Descent \n",
    "\n",
    "Again use GD to solve for O in example  \n",
    "- hypothesis:  h<sub>O</sub>(x) = O<sup>0</sup> + O<sup>1</sup>X<sup>1</sup> + O<sup>2</sup>X<sup>2</sup> + O<sup>n</sup>X<sup>n</sup>  \n",
    "- cost function:  C(O) = Y * (-log(h<sub>O</sub>(x))) + (1-Y)(log(h<sub>O</sub>(x)))\n",
    "- As before, GD loop:\n",
    "    - O<sub>j</sub> = O<sub>j</sub> - learningRate * partialDeriv(C(O))\n",
    "    - for each O parameter \n",
    "- Until C(O) is minimized\n",
    "\n",
    "I need to update my grad_solver to solve for a new f function and e cost, otherwise it can work the same.  (I should update it to take in an arbitrary function (h) and vector of O weights but that is TBD.\n",
    "\n"
   ]
  },
  {
   "cell_type": "code",
   "execution_count": null,
   "metadata": {},
   "outputs": [],
   "source": [
    "# solver for logistic regression\n",
    "def grad_descent3(testData):\n",
    "    guessA = guessB = 1.0   #initial guess y=1x+1\n",
    "\n",
    "    stepA = 0.00000005   #dif step for diff A,B ?\n",
    "    stepB = 0.25         #maybe normalize data first\n",
    "    step_limit = 0.0001  # when to stop, when cost stops changing\n",
    "    loop_limit = 5       # arbitrary max limits\n",
    "    costChange = 1.0\n",
    "\n",
    "    A,B,x,y = sp.symbols('A B x y')\n",
    "    f = A*x + B  # linear func y=mx+b\n",
    "    e = (f - y)**2  # error squared\n",
    "    print ('init guess A: %f, B: %f'%(guessA,guessB))\n",
    "    print ('init func: %s, test size: %d' %(str(f),testData.shape[0]))\n",
    "    \n",
    "    costF = evalSumF(e,x,y,testData)  # cost fun evaluted for testData\n",
    "    print('init costF',str(costF)[:80])\n",
    "    costEval = costF.subs(A,guessA).subs(B,guessB)  # cost evaluted for A B guess\n",
    "    print('init cost',costEval)\n",
    "\n",
    "    i=0  \n",
    "    while (abs(costChange) > step_limit and i<loop_limit):  # arbitrary limiter\n",
    "        pda = evalPartialDeriv(e,x,y,testData,A,guessA,B,guessB)\n",
    "        pdb = evalPartialDeriv(e,x,y,testData,B,guessB,A,guessA)\n",
    "        guessA = guessA - stepA * pda\n",
    "        guessB = guessB - stepB * pdb\n",
    "        previousCost = costEval\n",
    "        costEval = costF.subs(A,guessA).subs(B,guessB)\n",
    "        costChange = previousCost-costEval\n",
    "        print ('i=%d,cost=%d,A=%f,B=%f'%(i, int(costEval), guessA, guessB))\n",
    "        i=i+1\n",
    "    return guessA,guessB"
   ]
  }
 ],
 "metadata": {
  "kernelspec": {
   "display_name": "Python 2",
   "language": "python",
   "name": "python2"
  },
  "language_info": {
   "codemirror_mode": {
    "name": "ipython",
    "version": 2
   },
   "file_extension": ".py",
   "mimetype": "text/x-python",
   "name": "python",
   "nbconvert_exporter": "python",
   "pygments_lexer": "ipython2",
   "version": "2.7.14"
  }
 },
 "nbformat": 4,
 "nbformat_minor": 2
}
