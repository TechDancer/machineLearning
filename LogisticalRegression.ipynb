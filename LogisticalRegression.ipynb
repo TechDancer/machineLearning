{
 "cells": [
  {
   "cell_type": "markdown",
   "metadata": {},
   "source": [
    "## Logistical Regression \n",
    "\n",
    "The beginning...\n",
    "\n",
    "Plan\n",
    "\n",
    "1. Basics of logistical regression\n",
    "- Sample data (headsize is that a good example?)\n",
    "    - unless I add fake features or data for other animals...\n",
    "- Cost function & Sigmoid function examples\n",
    "- Gradient Descent solver\n",
    "\n",
    "\n"
   ]
  },
  {
   "cell_type": "code",
   "execution_count": null,
   "metadata": {},
   "outputs": [],
   "source": []
  }
 ],
 "metadata": {
  "kernelspec": {
   "display_name": "Python 2",
   "language": "python",
   "name": "python2"
  },
  "language_info": {
   "codemirror_mode": {
    "name": "ipython",
    "version": 2
   },
   "file_extension": ".py",
   "mimetype": "text/x-python",
   "name": "python",
   "nbconvert_exporter": "python",
   "pygments_lexer": "ipython2",
   "version": "2.7.14"
  }
 },
 "nbformat": 4,
 "nbformat_minor": 2
}
