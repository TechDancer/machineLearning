{
 "cells": [
  {
   "cell_type": "markdown",
   "metadata": {},
   "source": [
    "## Classification / Logistic Regression \n",
    "\n",
    "<B>Problem/use case</B> - when you have labelled data and want to build a classifier to detect things like:  \n",
    "- SPAM email filter based on presence of common spam words\n",
    "- M/F detector based on physical features\n",
    "- Something where you need a Y/N binary answer with indicative features\n",
    "\n",
    "### Lady Gaga Test\n",
    "I don't know if the Lady Gaga song detector Mike wrote is good, but we can try it out\n",
    "(fyi: https://github.com/qzmeng/ail/blob/master/training.ipynb)\n",
    "\n",
    "- There are 300 songs as samples\n",
    "- Songs have hundreds of words each\n",
    "- Total unique set of words is 4000+\n",
    "- If we consider each unique word as a feature, u have a matrix of 300 x 4000 as the Training Array\n",
    "\n",
    "The goal is to train a model using 230/300 songs, which are a mix of Lady Gaga and Clash songs.  The classifier should take in a new song and determine if its a Gaga song or not.\n",
    "\n",
    "\n"
   ]
  },
  {
   "cell_type": "markdown",
   "metadata": {},
   "source": [
    "\n",
    "### Dive into Logistic Regression \n",
    "- <i>We probably need to briefly cover classification systems and labelled/supervised learning.. first ??</i>    \n",
    "\n",
    "- Term \"Regression\" is a bad name for this, i dont think it has anything to do w/ <i>regression</i>\n",
    "- this is used to classify data in machine lerning - ie, figure out patterns or classify things like:\n",
    "    - is email spam (based on features like word counts, word frequency, etc as feature vectors\n",
    "    - is a song from author Lady Gaga or Clash based on word frequencies\n",
    "- Term \"Logistic\" = due to logistic function or sigmoid function to keep values between 0-1\n",
    "\n",
    "![sigmoid](https://upload.wikimedia.org/wikipedia/commons/thumb/8/88/Logistic-curve.svg/320px-Logistic-curve.svg.png)\n",
    "\n",
    "\n",
    "- Idea is similar to Linear Regression, formalizing terminology better:\n",
    "    - Given n features and m training examples\n",
    "    - Given your features X<sup>1</sup>..X<sup>n</sup>\n",
    "    - Given your weights/parameters O<sup>1</sup>..O<sup>n</sup> - I use O instead of Theta since I don't know greek\n",
    "    - Given the training set X<sub>1</sub>..X<sub>m</sub>\n",
    "    - Given a hypothesis h<sub>O</sub>(x) encompassing your O-weights and X-features\n",
    "        - like:  h<sub>O</sub>(x) = O<sup>0</sup> + O<sup>1</sup>X<sup>1</sup> + O<sup>2</sup>X<sup>2</sup> + O<sup>n</sup>X<sup>n</sup>  \n",
    "        - where the features X<sup>1..n</sup> are words in the songs, weighted by O<sup>1..n</sup> +/- depending probabilities\n",
    "        - so imagine we are calculating something like h(x) = 0.50*('love' exists?) - 0.25*('nukes' exists) + ...\n",
    "        - a high \"score\" evaluates in the sigmoid as a 1 (positive).  Low negative evaluates to a 0 (negative)\n",
    "    - Wrap the h inside the sigmoid function\n",
    "\\begin{equation*}\n",
    "z = \\frac{1}{(1-e^h)}\n",
    "\\end{equation*}\n",
    "    - Use the cost function C(O) = Y * (-log(h<sub>O</sub>(x))) + (1-Y)(log(h<sub>O</sub>(x)))\n",
    "    - Intuition with using -log(x) and log(x) as cost input to sigmoid is visible by viewing plots:\n",
    "\n",
    "\n"
   ]
  },
  {
   "cell_type": "code",
   "execution_count": 1,
   "metadata": {},
   "outputs": [
    {
     "data": {
      "text/plain": [
       "[<matplotlib.lines.Line2D at 0x102e17a90>]"
      ]
     },
     "execution_count": 1,
     "metadata": {},
     "output_type": "execute_result"
    },
    {
     "data": {
      "image/png": "[encoded data removed]",
      "text/plain": [
       "<matplotlib.figure.Figure at 0x102e17b10>"
      ]
     },
     "metadata": {},
     "output_type": "display_data"
    }
   ],
   "source": [
    "%matplotlib inline\n",
    "import matplotlib.pyplot as plt, math\n",
    "\n",
    "xs = range(1,120)\n",
    "xs = [x / 100.0 for x in xs]\n",
    "ys = [-math.log(x) for x in xs]\n",
    "plt.scatter(xs, ys)\n",
    "plt.xlabel('-log(x) functions')\n",
    "plt.plot([0,0],[-1,5])\n",
    "plt.plot([1,1],[-1,5])"
   ]
  },
  {
   "cell_type": "markdown",
   "metadata": {},
   "source": [
    "- Looking cost function - if Y=1, the cost function evaluates to 1 * (-log(h<sub>O</sub>(x))) - or the blue line. \n",
    "- For each X<super>n</super> training example where expect Y=1:\n",
    "    - if x is large, h(x) is 0 (or <0).  Or has 0 cost.   \n",
    "    - If x is small (or close to 0), the cost skyrockets to be very large (infinity)\n",
    "- Conversely if expect Y = 0, wrong answers have super high cost, right predictions have 0 cost.  \n",
    "<i>I'm not sure I get it, but I guess you would never have a wrong guess of 0 or 1 when expecting 1 or 0 ??</i>\n",
    "\n",
    "### Gradient Descent \n",
    "\n",
    "Again use GD to solve for O in example  \n",
    "- sub-hypothesis:  h<sub>O</sub>(x) = O<sup>0</sup> + O<sup>1</sup>X<sup>1</sup> + O<sup>2</sup>X<sup>2</sup> + O<sup>n</sup>X<sup>n</sup>  \n",
    "- hypothesis (wrapped in sygmoid:  g(h) = 1/(1-e^h))\n",
    "- cost function:  C(O) = Y * (-log(h<sub>O</sub>(x))) + (1-Y)(log(h<sub>O</sub>(x)))\n",
    "- As before, GD loop:\n",
    "    - O<sub>j</sub> = O<sub>j</sub> - learningRate * partialDeriv(C(O))\n",
    "    - for each O parameter \n",
    "- Until C(O) is minimized\n",
    "\n",
    "I finally upgraded the solver to handle an arbitrar hypothesis, cost, passing in the training data and an array of y answers.  Generic !\n"
   ]
  },
  {
   "cell_type": "code",
   "execution_count": null,
   "metadata": {},
   "outputs": [],
   "source": [
    "# generic solver takes in hypothesis function, cost func, training matrix, theta array, yarray\n",
    "def grad_descent4(hFunc, cFunc, trainingMatrix, yArr):\n",
    "    guesses = [0.1]*len(trainingMatrix[0])    # initial guess for all \n",
    "    step = 0.05          # init step\n",
    "    step_limit = 0.00001   # when to stop, when cost stops changing\n",
    "    loop_limit = 50      # arbitrary max limits\n",
    "    costChange = 1.0\n",
    "\n",
    "    # TODO do i really need these 2 here... pass them in?\n",
    "    ts = sp.symbols('t:'+str(len(trainingMatrix[0])))  #theta weight/parameter array\n",
    "    xs = sp.symbols('x:'+str(len(trainingMatrix[0])))  #feature array\n",
    "    \n",
    "    log.warn('init guesses %s',str(guesses))\n",
    "    log.warn('init func: %s, training size: %d' %(str(hFunc),trainingMatrix.shape[0]))\n",
    "    log.debug('ts: %s / xs: %s',ts,xs)\n",
    "\n",
    "    costF = evalSumF2(cFunc,xs,trainingMatrix,yArr)  # cost fun evaluted for testData\n",
    "    cost = 0.0+costF.subs(zip(ts,guesses))  \n",
    "    log.warn('init cost: %f, costF %s',cost,str(costF)) # show first 80 char of cost evaluation\n",
    "\n",
    "    i=0  \n",
    "    while (abs(costChange) > step_limit and i<loop_limit):  # arbitrary limiter\n",
    "        for j,theta in enumerate(ts):\n",
    "            pd = evalPartialDeriv2(cFunc,theta,ts,xs,trainingMatrix,guesses,yArr)\n",
    "            guesses[j] = guesses[j] - step * pd\n",
    "        previousCost = cost\n",
    "        cost = costF.subs(zip(ts,guesses))\n",
    "        costChange = previousCost-cost\n",
    "        log.warn('i=%d,costChange=%f,cost=%f, guesses=%s'%(i, costChange,cost,str(guesses)))\n",
    "        i=i+1\n",
    "    return guesses\n",
    "\n",
    "#setup\n",
    "trainingMatrix,yArr,labels = getGagaData(maxrows=300,maxfeatures=20)\n",
    "ts = sp.symbols('t:'+str(len(trainingMatrix[0])))  #theta weight/parameter array\n",
    "xs = sp.symbols('x:'+str(len(trainingMatrix[0])))  #feature array\n",
    "\n",
    "c,g,h,y = sp.symbols('c g h y')\n",
    "h = (sp.Matrix([ts])*sp.Matrix(xs))[0] # multipy ts's * xs's ( ts * xs.T )\n",
    "g = 1 / (1+mp.e**-h)   # wrap h in sigmoid\n",
    "c = -y*sp.log(g) - (1-y)*sp.log(1-g)  # cost func of single sample\n",
    "\n",
    "grad_descent4(g,c,trainingMatrix,yArr)"
   ]
  },
  {
   "cell_type": "markdown",
   "metadata": {},
   "source": [
    "I tested with with Mike Eng's Gaga vs Clash Data.   https://github.com/qzmeng/ail/blob/master/training.ipynb\n",
    "\n",
    "A few observations:\n",
    "\n",
    "- The dataset has 300 training examples, but around 4000 features\n",
    "- Testing on 4000 features, or even 1000 is super super slow, like even 1 single pass to the GD solver takes hours on my MacPro\n",
    "- Most of the matrix are 0's since there are alot of useless words that are never re-used in subsequent datasets  \n",
    "\n",
    "So the short story is -- some fine tuning is needed in feature selection or something else.\n",
    "Thus I tried it out.. see <a href=\"FeatureEngineering.ipynb\">FeatureEngineering Notebook</a>\n",
    "\n",
    "\n",
    "\n"
   ]
  },
  {
   "cell_type": "code",
   "execution_count": null,
   "metadata": {},
   "outputs": [],
   "source": []
  }
 ],
 "metadata": {
  "kernelspec": {
   "display_name": "Python 2",
   "language": "python",
   "name": "python2"
  },
  "language_info": {
   "codemirror_mode": {
    "name": "ipython",
    "version": 2
   },
   "file_extension": ".py",
   "mimetype": "text/x-python",
   "name": "python",
   "nbconvert_exporter": "python",
   "pygments_lexer": "ipython2",
   "version": "2.7.14"
  }
 },
 "nbformat": 4,
 "nbformat_minor": 2
}
