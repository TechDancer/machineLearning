{
 "cells": [
  {
   "cell_type": "markdown",
   "metadata": {},
   "source": [
    "# COVID 19 Analysis\n"
   ]
  },
  {
   "cell_type": "markdown",
   "metadata": {},
   "source": [
    "I stole some of this from Brice R -- who did a nice job confirming exponential growth of virus confirmed cases.  See (https://ro-z.net/assets/covid19quickanalysis.html)\n",
    "\n",
    "I am throwing in analysis of my local target US states + the hot countries Spain, Italy, etc to compare and contrast.\n",
    "\n",
    "Datasets are all available on github courtesy of John Hopkins, just download via:\n",
    "\n",
    "-  git clone https://github.com/CSSEGISandData/COVID-19.git\n"
   ]
  },
  {
   "cell_type": "code",
   "execution_count": 3,
   "metadata": {},
   "outputs": [],
   "source": [
    "import pandas as pd\n",
    "import numpy as np\n",
    "import matplotlib.pyplot as plt\n",
    "\n",
    "drdir = 'COVID-19/csse_covid_19_data/csse_covid_19_daily_reports/'\n",
    "tsdir = 'COVID-19/csse_covid_19_data/csse_covid_19_time_series/'\n",
    "\n",
    "daily_f = drdir+'01-22-2020.csv' # 03-18-2020.csv etc\n",
    "confirmed_f = tsdir+'time_series_19-covid-Confirmed.csv'\n",
    "deaths_f = tsdir+'time_series_19-covid-Deaths.csv'\n",
    "\n",
    "dfc = pd.read_csv(confirmed_f)\n",
    "confirmed = dfc.drop(columns=['Lat','Long']).groupby( ['Country/Region']).sum().transpose()\n",
    "confirmed.index = pd.to_datetime(confirmed.index)\n",
    "\n",
    "dfd = pd.read_csv(deaths_f)\n",
    "deaths = dfd.drop(columns=['Lat','Long']).groupby( ['Country/Region']).sum().transpose()\n",
    "deaths.index = pd.to_datetime(deaths.index)\n"
   ]
  },
  {
   "cell_type": "code",
   "execution_count": 4,
   "metadata": {
    "scrolled": true
   },
   "outputs": [
    {
     "data": {
      "text/html": [
       "<div>\n",
       "<style scoped>\n",
       "    .dataframe tbody tr th:only-of-type {\n",
       "        vertical-align: middle;\n",
       "    }\n",
       "\n",
       "    .dataframe tbody tr th {\n",
       "        vertical-align: top;\n",
       "    }\n",
       "\n",
       "    .dataframe thead th {\n",
       "        text-align: right;\n",
       "    }\n",
       "</style>\n",
       "<table border=\"1\" class=\"dataframe\">\n",
       "  <thead>\n",
       "    <tr style=\"text-align: right;\">\n",
       "      <th></th>\n",
       "      <th>Province/State</th>\n",
       "      <th>Country/Region</th>\n",
       "      <th>Lat</th>\n",
       "      <th>Long</th>\n",
       "      <th>1/22/20</th>\n",
       "      <th>1/23/20</th>\n",
       "      <th>1/24/20</th>\n",
       "      <th>1/25/20</th>\n",
       "      <th>1/26/20</th>\n",
       "      <th>1/27/20</th>\n",
       "      <th>...</th>\n",
       "      <th>3/9/20</th>\n",
       "      <th>3/10/20</th>\n",
       "      <th>3/11/20</th>\n",
       "      <th>3/12/20</th>\n",
       "      <th>3/13/20</th>\n",
       "      <th>3/14/20</th>\n",
       "      <th>3/15/20</th>\n",
       "      <th>3/16/20</th>\n",
       "      <th>3/17/20</th>\n",
       "      <th>3/18/20</th>\n",
       "    </tr>\n",
       "  </thead>\n",
       "  <tbody>\n",
       "    <tr>\n",
       "      <td>0</td>\n",
       "      <td>NaN</td>\n",
       "      <td>Thailand</td>\n",
       "      <td>15.0000</td>\n",
       "      <td>101.0000</td>\n",
       "      <td>2</td>\n",
       "      <td>3</td>\n",
       "      <td>5</td>\n",
       "      <td>7</td>\n",
       "      <td>8</td>\n",
       "      <td>8</td>\n",
       "      <td>...</td>\n",
       "      <td>50</td>\n",
       "      <td>53</td>\n",
       "      <td>59</td>\n",
       "      <td>70</td>\n",
       "      <td>75</td>\n",
       "      <td>82</td>\n",
       "      <td>114</td>\n",
       "      <td>147</td>\n",
       "      <td>177</td>\n",
       "      <td>212</td>\n",
       "    </tr>\n",
       "    <tr>\n",
       "      <td>1</td>\n",
       "      <td>NaN</td>\n",
       "      <td>Japan</td>\n",
       "      <td>36.0000</td>\n",
       "      <td>138.0000</td>\n",
       "      <td>2</td>\n",
       "      <td>1</td>\n",
       "      <td>2</td>\n",
       "      <td>2</td>\n",
       "      <td>4</td>\n",
       "      <td>4</td>\n",
       "      <td>...</td>\n",
       "      <td>511</td>\n",
       "      <td>581</td>\n",
       "      <td>639</td>\n",
       "      <td>639</td>\n",
       "      <td>701</td>\n",
       "      <td>773</td>\n",
       "      <td>839</td>\n",
       "      <td>825</td>\n",
       "      <td>878</td>\n",
       "      <td>889</td>\n",
       "    </tr>\n",
       "    <tr>\n",
       "      <td>2</td>\n",
       "      <td>NaN</td>\n",
       "      <td>Singapore</td>\n",
       "      <td>1.2833</td>\n",
       "      <td>103.8333</td>\n",
       "      <td>0</td>\n",
       "      <td>1</td>\n",
       "      <td>3</td>\n",
       "      <td>3</td>\n",
       "      <td>4</td>\n",
       "      <td>5</td>\n",
       "      <td>...</td>\n",
       "      <td>150</td>\n",
       "      <td>160</td>\n",
       "      <td>178</td>\n",
       "      <td>178</td>\n",
       "      <td>200</td>\n",
       "      <td>212</td>\n",
       "      <td>226</td>\n",
       "      <td>243</td>\n",
       "      <td>266</td>\n",
       "      <td>313</td>\n",
       "    </tr>\n",
       "    <tr>\n",
       "      <td>3</td>\n",
       "      <td>NaN</td>\n",
       "      <td>Nepal</td>\n",
       "      <td>28.1667</td>\n",
       "      <td>84.2500</td>\n",
       "      <td>0</td>\n",
       "      <td>0</td>\n",
       "      <td>0</td>\n",
       "      <td>1</td>\n",
       "      <td>1</td>\n",
       "      <td>1</td>\n",
       "      <td>...</td>\n",
       "      <td>1</td>\n",
       "      <td>1</td>\n",
       "      <td>1</td>\n",
       "      <td>1</td>\n",
       "      <td>1</td>\n",
       "      <td>1</td>\n",
       "      <td>1</td>\n",
       "      <td>1</td>\n",
       "      <td>1</td>\n",
       "      <td>1</td>\n",
       "    </tr>\n",
       "    <tr>\n",
       "      <td>4</td>\n",
       "      <td>NaN</td>\n",
       "      <td>Malaysia</td>\n",
       "      <td>2.5000</td>\n",
       "      <td>112.5000</td>\n",
       "      <td>0</td>\n",
       "      <td>0</td>\n",
       "      <td>0</td>\n",
       "      <td>3</td>\n",
       "      <td>4</td>\n",
       "      <td>4</td>\n",
       "      <td>...</td>\n",
       "      <td>117</td>\n",
       "      <td>129</td>\n",
       "      <td>149</td>\n",
       "      <td>149</td>\n",
       "      <td>197</td>\n",
       "      <td>238</td>\n",
       "      <td>428</td>\n",
       "      <td>566</td>\n",
       "      <td>673</td>\n",
       "      <td>790</td>\n",
       "    </tr>\n",
       "  </tbody>\n",
       "</table>\n",
       "<p>5 rows × 61 columns</p>\n",
       "</div>"
      ],
      "text/plain": [
       "  Province/State Country/Region      Lat      Long  1/22/20  1/23/20  1/24/20  \\\n",
       "0            NaN       Thailand  15.0000  101.0000        2        3        5   \n",
       "1            NaN          Japan  36.0000  138.0000        2        1        2   \n",
       "2            NaN      Singapore   1.2833  103.8333        0        1        3   \n",
       "3            NaN          Nepal  28.1667   84.2500        0        0        0   \n",
       "4            NaN       Malaysia   2.5000  112.5000        0        0        0   \n",
       "\n",
       "   1/25/20  1/26/20  1/27/20  ...  3/9/20  3/10/20  3/11/20  3/12/20  3/13/20  \\\n",
       "0        7        8        8  ...      50       53       59       70       75   \n",
       "1        2        4        4  ...     511      581      639      639      701   \n",
       "2        3        4        5  ...     150      160      178      178      200   \n",
       "3        1        1        1  ...       1        1        1        1        1   \n",
       "4        3        4        4  ...     117      129      149      149      197   \n",
       "\n",
       "   3/14/20  3/15/20  3/16/20  3/17/20  3/18/20  \n",
       "0       82      114      147      177      212  \n",
       "1      773      839      825      878      889  \n",
       "2      212      226      243      266      313  \n",
       "3        1        1        1        1        1  \n",
       "4      238      428      566      673      790  \n",
       "\n",
       "[5 rows x 61 columns]"
      ]
     },
     "execution_count": 4,
     "metadata": {},
     "output_type": "execute_result"
    }
   ],
   "source": [
    "dfc.head()\n"
   ]
  },
  {
   "cell_type": "code",
   "execution_count": 5,
   "metadata": {},
   "outputs": [],
   "source": [
    "confirmed = dfc.drop(columns=['Lat','Long']).groupby( ['Country/Region']).sum().transpose()\n",
    "confirmed.index = pd.to_datetime(confirmed.index)\n",
    "\n",
    "dfd = pd.read_csv(deaths_f)\n",
    "deaths = dfd.drop(columns=['Lat','Long']).groupby( ['Country/Region']).sum().transpose()\n",
    "deaths.index = pd.to_datetime(deaths.index)\n"
   ]
  },
  {
   "cell_type": "code",
   "execution_count": 16,
   "metadata": {},
   "outputs": [
    {
     "data": {
      "text/plain": [
       "['Congo (Kinshasa)',\n",
       " 'Kazakhstan',\n",
       " 'Kenya',\n",
       " 'Korea, South',\n",
       " 'Kosovo',\n",
       " 'Kuwait',\n",
       " 'Kyrgyzstan',\n",
       " 'United Kingdom']"
      ]
     },
     "execution_count": 16,
     "metadata": {},
     "output_type": "execute_result"
    }
   ],
   "source": [
    "[x for x in confirmed.columns if 'K' in x]\n"
   ]
  },
  {
   "cell_type": "code",
   "execution_count": 18,
   "metadata": {},
   "outputs": [
    {
     "data": {
      "text/html": [
       "<div>\n",
       "<style scoped>\n",
       "    .dataframe tbody tr th:only-of-type {\n",
       "        vertical-align: middle;\n",
       "    }\n",
       "\n",
       "    .dataframe tbody tr th {\n",
       "        vertical-align: top;\n",
       "    }\n",
       "\n",
       "    .dataframe thead th {\n",
       "        text-align: right;\n",
       "    }\n",
       "</style>\n",
       "<table border=\"1\" class=\"dataframe\">\n",
       "  <thead>\n",
       "    <tr style=\"text-align: right;\">\n",
       "      <th>Country/Region</th>\n",
       "      <th>Japan</th>\n",
       "      <th>US</th>\n",
       "      <th>Italy</th>\n",
       "      <th>Spain</th>\n",
       "      <th>France</th>\n",
       "      <th>Korea, South</th>\n",
       "    </tr>\n",
       "  </thead>\n",
       "  <tbody>\n",
       "    <tr>\n",
       "      <td>2020-03-14</td>\n",
       "      <td>22</td>\n",
       "      <td>54</td>\n",
       "      <td>1441</td>\n",
       "      <td>195</td>\n",
       "      <td>91</td>\n",
       "      <td>72</td>\n",
       "    </tr>\n",
       "    <tr>\n",
       "      <td>2020-03-15</td>\n",
       "      <td>22</td>\n",
       "      <td>63</td>\n",
       "      <td>1809</td>\n",
       "      <td>289</td>\n",
       "      <td>91</td>\n",
       "      <td>75</td>\n",
       "    </tr>\n",
       "    <tr>\n",
       "      <td>2020-03-16</td>\n",
       "      <td>27</td>\n",
       "      <td>85</td>\n",
       "      <td>2158</td>\n",
       "      <td>342</td>\n",
       "      <td>148</td>\n",
       "      <td>75</td>\n",
       "    </tr>\n",
       "    <tr>\n",
       "      <td>2020-03-17</td>\n",
       "      <td>29</td>\n",
       "      <td>108</td>\n",
       "      <td>2503</td>\n",
       "      <td>533</td>\n",
       "      <td>148</td>\n",
       "      <td>81</td>\n",
       "    </tr>\n",
       "    <tr>\n",
       "      <td>2020-03-18</td>\n",
       "      <td>29</td>\n",
       "      <td>118</td>\n",
       "      <td>2978</td>\n",
       "      <td>623</td>\n",
       "      <td>148</td>\n",
       "      <td>84</td>\n",
       "    </tr>\n",
       "  </tbody>\n",
       "</table>\n",
       "</div>"
      ],
      "text/plain": [
       "Country/Region  Japan   US  Italy  Spain  France  Korea, South\n",
       "2020-03-14         22   54   1441    195      91            72\n",
       "2020-03-15         22   63   1809    289      91            75\n",
       "2020-03-16         27   85   2158    342     148            75\n",
       "2020-03-17         29  108   2503    533     148            81\n",
       "2020-03-18         29  118   2978    623     148            84"
      ]
     },
     "execution_count": 18,
     "metadata": {},
     "output_type": "execute_result"
    }
   ],
   "source": [
    "countries = [ 'Japan', 'US', 'Italy', 'Spain','France', 'Korea, South' ]\n",
    "deaths[ countries ].tail()\n"
   ]
  },
  {
   "cell_type": "code",
   "execution_count": 19,
   "metadata": {},
   "outputs": [
    {
     "data": {
      "text/plain": [
       "<matplotlib.axes._subplots.AxesSubplot at 0x21119bc31c8>"
      ]
     },
     "execution_count": 19,
     "metadata": {},
     "output_type": "execute_result"
    },
    {
     "data": {
      "image/png": "[encoded data removed]",
      "text/plain": [
       "<Figure size 432x288 with 1 Axes>"
      ]
     },
     "metadata": {
      "needs_background": "light"
     },
     "output_type": "display_data"
    }
   ],
   "source": [
    "confirmed[ countries ].tail(20).plot()\n"
   ]
  },
  {
   "cell_type": "code",
   "execution_count": 20,
   "metadata": {
    "scrolled": true
   },
   "outputs": [
    {
     "data": {
      "text/html": [
       "<div>\n",
       "<style scoped>\n",
       "    .dataframe tbody tr th:only-of-type {\n",
       "        vertical-align: middle;\n",
       "    }\n",
       "\n",
       "    .dataframe tbody tr th {\n",
       "        vertical-align: top;\n",
       "    }\n",
       "\n",
       "    .dataframe thead th {\n",
       "        text-align: right;\n",
       "    }\n",
       "</style>\n",
       "<table border=\"1\" class=\"dataframe\">\n",
       "  <thead>\n",
       "    <tr style=\"text-align: right;\">\n",
       "      <th></th>\n",
       "      <th>Province/State</th>\n",
       "      <th>Country/Region</th>\n",
       "      <th>Lat</th>\n",
       "      <th>Long</th>\n",
       "      <th>1/22/20</th>\n",
       "      <th>1/23/20</th>\n",
       "      <th>1/24/20</th>\n",
       "      <th>1/25/20</th>\n",
       "      <th>1/26/20</th>\n",
       "      <th>1/27/20</th>\n",
       "      <th>...</th>\n",
       "      <th>3/9/20</th>\n",
       "      <th>3/10/20</th>\n",
       "      <th>3/11/20</th>\n",
       "      <th>3/12/20</th>\n",
       "      <th>3/13/20</th>\n",
       "      <th>3/14/20</th>\n",
       "      <th>3/15/20</th>\n",
       "      <th>3/16/20</th>\n",
       "      <th>3/17/20</th>\n",
       "      <th>3/18/20</th>\n",
       "    </tr>\n",
       "  </thead>\n",
       "  <tbody>\n",
       "    <tr>\n",
       "      <td>98</td>\n",
       "      <td>Washington</td>\n",
       "      <td>US</td>\n",
       "      <td>47.4009</td>\n",
       "      <td>-121.4905</td>\n",
       "      <td>0</td>\n",
       "      <td>0</td>\n",
       "      <td>0</td>\n",
       "      <td>0</td>\n",
       "      <td>0</td>\n",
       "      <td>0</td>\n",
       "      <td>...</td>\n",
       "      <td>0</td>\n",
       "      <td>267</td>\n",
       "      <td>366</td>\n",
       "      <td>442</td>\n",
       "      <td>568</td>\n",
       "      <td>572</td>\n",
       "      <td>643</td>\n",
       "      <td>904</td>\n",
       "      <td>1076</td>\n",
       "      <td>1014</td>\n",
       "    </tr>\n",
       "    <tr>\n",
       "      <td>99</td>\n",
       "      <td>New York</td>\n",
       "      <td>US</td>\n",
       "      <td>42.1657</td>\n",
       "      <td>-74.9481</td>\n",
       "      <td>0</td>\n",
       "      <td>0</td>\n",
       "      <td>0</td>\n",
       "      <td>0</td>\n",
       "      <td>0</td>\n",
       "      <td>0</td>\n",
       "      <td>...</td>\n",
       "      <td>0</td>\n",
       "      <td>173</td>\n",
       "      <td>220</td>\n",
       "      <td>328</td>\n",
       "      <td>421</td>\n",
       "      <td>525</td>\n",
       "      <td>732</td>\n",
       "      <td>967</td>\n",
       "      <td>1706</td>\n",
       "      <td>2495</td>\n",
       "    </tr>\n",
       "    <tr>\n",
       "      <td>100</td>\n",
       "      <td>California</td>\n",
       "      <td>US</td>\n",
       "      <td>36.1162</td>\n",
       "      <td>-119.6816</td>\n",
       "      <td>0</td>\n",
       "      <td>0</td>\n",
       "      <td>0</td>\n",
       "      <td>0</td>\n",
       "      <td>0</td>\n",
       "      <td>0</td>\n",
       "      <td>...</td>\n",
       "      <td>0</td>\n",
       "      <td>144</td>\n",
       "      <td>177</td>\n",
       "      <td>221</td>\n",
       "      <td>282</td>\n",
       "      <td>340</td>\n",
       "      <td>426</td>\n",
       "      <td>557</td>\n",
       "      <td>698</td>\n",
       "      <td>751</td>\n",
       "    </tr>\n",
       "    <tr>\n",
       "      <td>101</td>\n",
       "      <td>Massachusetts</td>\n",
       "      <td>US</td>\n",
       "      <td>42.2302</td>\n",
       "      <td>-71.5301</td>\n",
       "      <td>0</td>\n",
       "      <td>0</td>\n",
       "      <td>0</td>\n",
       "      <td>0</td>\n",
       "      <td>0</td>\n",
       "      <td>0</td>\n",
       "      <td>...</td>\n",
       "      <td>0</td>\n",
       "      <td>92</td>\n",
       "      <td>95</td>\n",
       "      <td>108</td>\n",
       "      <td>123</td>\n",
       "      <td>138</td>\n",
       "      <td>164</td>\n",
       "      <td>197</td>\n",
       "      <td>218</td>\n",
       "      <td>218</td>\n",
       "    </tr>\n",
       "    <tr>\n",
       "      <td>102</td>\n",
       "      <td>Diamond Princess</td>\n",
       "      <td>US</td>\n",
       "      <td>35.4437</td>\n",
       "      <td>139.6380</td>\n",
       "      <td>0</td>\n",
       "      <td>0</td>\n",
       "      <td>0</td>\n",
       "      <td>0</td>\n",
       "      <td>0</td>\n",
       "      <td>0</td>\n",
       "      <td>...</td>\n",
       "      <td>45</td>\n",
       "      <td>46</td>\n",
       "      <td>46</td>\n",
       "      <td>46</td>\n",
       "      <td>46</td>\n",
       "      <td>46</td>\n",
       "      <td>46</td>\n",
       "      <td>47</td>\n",
       "      <td>47</td>\n",
       "      <td>47</td>\n",
       "    </tr>\n",
       "  </tbody>\n",
       "</table>\n",
       "<p>5 rows × 61 columns</p>\n",
       "</div>"
      ],
      "text/plain": [
       "       Province/State Country/Region      Lat      Long  1/22/20  1/23/20  \\\n",
       "98         Washington             US  47.4009 -121.4905        0        0   \n",
       "99           New York             US  42.1657  -74.9481        0        0   \n",
       "100        California             US  36.1162 -119.6816        0        0   \n",
       "101     Massachusetts             US  42.2302  -71.5301        0        0   \n",
       "102  Diamond Princess             US  35.4437  139.6380        0        0   \n",
       "\n",
       "     1/24/20  1/25/20  1/26/20  1/27/20  ...  3/9/20  3/10/20  3/11/20  \\\n",
       "98         0        0        0        0  ...       0      267      366   \n",
       "99         0        0        0        0  ...       0      173      220   \n",
       "100        0        0        0        0  ...       0      144      177   \n",
       "101        0        0        0        0  ...       0       92       95   \n",
       "102        0        0        0        0  ...      45       46       46   \n",
       "\n",
       "     3/12/20  3/13/20  3/14/20  3/15/20  3/16/20  3/17/20  3/18/20  \n",
       "98       442      568      572      643      904     1076     1014  \n",
       "99       328      421      525      732      967     1706     2495  \n",
       "100      221      282      340      426      557      698      751  \n",
       "101      108      123      138      164      197      218      218  \n",
       "102       46       46       46       46       47       47       47  \n",
       "\n",
       "[5 rows x 61 columns]"
      ]
     },
     "execution_count": 20,
     "metadata": {},
     "output_type": "execute_result"
    }
   ],
   "source": [
    "confirmed_us = dfc[ dfc['Country/Region'] == 'US']\n",
    "confirmed_us.head()\n"
   ]
  },
  {
   "cell_type": "code",
   "execution_count": 22,
   "metadata": {},
   "outputs": [
    {
     "data": {
      "text/plain": [
       "['North Carolina', 'Camden, NC', 'Chatham County, NC', 'Wake County, NC']"
      ]
     },
     "execution_count": 22,
     "metadata": {},
     "output_type": "execute_result"
    }
   ],
   "source": [
    "confirmed_us = dfc[ dfc['Country/Region'] == 'US']\n",
    "states = [x for x in list(confirmed_us['Province/State']) if 'NC' in x or 'North Carolina' in x]\n",
    "states\n"
   ]
  },
  {
   "cell_type": "code",
   "execution_count": 24,
   "metadata": {
    "scrolled": true
   },
   "outputs": [
    {
     "data": {
      "text/html": [
       "<div>\n",
       "<style scoped>\n",
       "    .dataframe tbody tr th:only-of-type {\n",
       "        vertical-align: middle;\n",
       "    }\n",
       "\n",
       "    .dataframe tbody tr th {\n",
       "        vertical-align: top;\n",
       "    }\n",
       "\n",
       "    .dataframe thead th {\n",
       "        text-align: right;\n",
       "    }\n",
       "</style>\n",
       "<table border=\"1\" class=\"dataframe\">\n",
       "  <thead>\n",
       "    <tr style=\"text-align: right;\">\n",
       "      <th>Province/State</th>\n",
       "      <th>North Carolina</th>\n",
       "    </tr>\n",
       "  </thead>\n",
       "  <tbody>\n",
       "    <tr>\n",
       "      <td>3/14/20</td>\n",
       "      <td>24</td>\n",
       "    </tr>\n",
       "    <tr>\n",
       "      <td>3/15/20</td>\n",
       "      <td>33</td>\n",
       "    </tr>\n",
       "    <tr>\n",
       "      <td>3/16/20</td>\n",
       "      <td>38</td>\n",
       "    </tr>\n",
       "    <tr>\n",
       "      <td>3/17/20</td>\n",
       "      <td>64</td>\n",
       "    </tr>\n",
       "    <tr>\n",
       "      <td>3/18/20</td>\n",
       "      <td>70</td>\n",
       "    </tr>\n",
       "  </tbody>\n",
       "</table>\n",
       "</div>"
      ],
      "text/plain": [
       "Province/State  North Carolina\n",
       "3/14/20                     24\n",
       "3/15/20                     33\n",
       "3/16/20                     38\n",
       "3/17/20                     64\n",
       "3/18/20                     70"
      ]
     },
     "execution_count": 24,
     "metadata": {},
     "output_type": "execute_result"
    }
   ],
   "source": [
    "# merge to NC\n",
    "nc1 = confirmed_us[confirmed_us['Province/State'].isin( states )].drop(columns=['Lat', 'Long'])\n",
    "nc1[ 'Province/State' ] = 'North Carolina'\n",
    "nc = nc1.groupby( 'Province/State' ).sum().transpose()\n",
    "nc.tail()"
   ]
  },
  {
   "cell_type": "code",
   "execution_count": 28,
   "metadata": {},
   "outputs": [],
   "source": [
    "def FindState(df, statefull, stateshort):\n",
    "    states = [x for x in list(df['Province/State']) if stateshort in x or statefull == x]\n",
    "    return states\n",
    "    \n",
    "\n",
    "def ExtractState(df, statefull, stateshort):\n",
    "    states = FindState(df,statefull,stateshort)\n",
    "    pre = df[ df[ 'Province/State'].isin(states)].drop(columns=['Lat','Long'])\n",
    "    pre['Province/State'] = statefull\n",
    "    return pre.groupby('Province/State').sum().transpose()"
   ]
  },
  {
   "cell_type": "code",
   "execution_count": 31,
   "metadata": {
    "scrolled": true
   },
   "outputs": [
    {
     "data": {
      "text/plain": [
       "['Texas',\n",
       " 'Gregg, TX',\n",
       " 'Collin County, TX',\n",
       " 'Fort Bend County, TX',\n",
       " 'Harris County, TX',\n",
       " 'Dallas, TX',\n",
       " 'Tarrant, TX',\n",
       " 'Montgomery, TX']"
      ]
     },
     "execution_count": 31,
     "metadata": {},
     "output_type": "execute_result"
    }
   ],
   "source": [
    "FindState(confirmed_us, 'Texas', 'TX')\n"
   ]
  },
  {
   "cell_type": "code",
   "execution_count": 33,
   "metadata": {
    "scrolled": true
   },
   "outputs": [
    {
     "data": {
      "text/html": [
       "<div>\n",
       "<style scoped>\n",
       "    .dataframe tbody tr th:only-of-type {\n",
       "        vertical-align: middle;\n",
       "    }\n",
       "\n",
       "    .dataframe tbody tr th {\n",
       "        vertical-align: top;\n",
       "    }\n",
       "\n",
       "    .dataframe thead th {\n",
       "        text-align: right;\n",
       "    }\n",
       "</style>\n",
       "<table border=\"1\" class=\"dataframe\">\n",
       "  <thead>\n",
       "    <tr style=\"text-align: right;\">\n",
       "      <th>Province/State</th>\n",
       "      <th>Texas</th>\n",
       "      <th>New York</th>\n",
       "      <th>California</th>\n",
       "      <th>North Carolina</th>\n",
       "      <th>Japan</th>\n",
       "      <th>Spain</th>\n",
       "      <th>Italy</th>\n",
       "      <th>France</th>\n",
       "      <th>Korea, South</th>\n",
       "      <th>US</th>\n",
       "    </tr>\n",
       "  </thead>\n",
       "  <tbody>\n",
       "    <tr>\n",
       "      <td>3/14/20</td>\n",
       "      <td>57</td>\n",
       "      <td>525</td>\n",
       "      <td>340</td>\n",
       "      <td>24</td>\n",
       "      <td>773</td>\n",
       "      <td>6391</td>\n",
       "      <td>21157</td>\n",
       "      <td>4487</td>\n",
       "      <td>8086</td>\n",
       "      <td>2727</td>\n",
       "    </tr>\n",
       "    <tr>\n",
       "      <td>3/15/20</td>\n",
       "      <td>72</td>\n",
       "      <td>732</td>\n",
       "      <td>426</td>\n",
       "      <td>33</td>\n",
       "      <td>839</td>\n",
       "      <td>7798</td>\n",
       "      <td>24747</td>\n",
       "      <td>4523</td>\n",
       "      <td>8162</td>\n",
       "      <td>3499</td>\n",
       "    </tr>\n",
       "    <tr>\n",
       "      <td>3/16/20</td>\n",
       "      <td>85</td>\n",
       "      <td>967</td>\n",
       "      <td>557</td>\n",
       "      <td>38</td>\n",
       "      <td>825</td>\n",
       "      <td>9942</td>\n",
       "      <td>27980</td>\n",
       "      <td>6668</td>\n",
       "      <td>8236</td>\n",
       "      <td>4632</td>\n",
       "    </tr>\n",
       "    <tr>\n",
       "      <td>3/17/20</td>\n",
       "      <td>110</td>\n",
       "      <td>1706</td>\n",
       "      <td>698</td>\n",
       "      <td>64</td>\n",
       "      <td>878</td>\n",
       "      <td>11748</td>\n",
       "      <td>31506</td>\n",
       "      <td>7699</td>\n",
       "      <td>8320</td>\n",
       "      <td>6421</td>\n",
       "    </tr>\n",
       "    <tr>\n",
       "      <td>3/18/20</td>\n",
       "      <td>173</td>\n",
       "      <td>2495</td>\n",
       "      <td>751</td>\n",
       "      <td>70</td>\n",
       "      <td>889</td>\n",
       "      <td>13910</td>\n",
       "      <td>35713</td>\n",
       "      <td>9105</td>\n",
       "      <td>8413</td>\n",
       "      <td>7783</td>\n",
       "    </tr>\n",
       "  </tbody>\n",
       "</table>\n",
       "</div>"
      ],
      "text/plain": [
       "Province/State  Texas  New York  California  North Carolina  Japan  Spain  \\\n",
       "3/14/20            57       525         340              24    773   6391   \n",
       "3/15/20            72       732         426              33    839   7798   \n",
       "3/16/20            85       967         557              38    825   9942   \n",
       "3/17/20           110      1706         698              64    878  11748   \n",
       "3/18/20           173      2495         751              70    889  13910   \n",
       "\n",
       "Province/State  Italy  France  Korea, South    US  \n",
       "3/14/20         21157    4487          8086  2727  \n",
       "3/15/20         24747    4523          8162  3499  \n",
       "3/16/20         27980    6668          8236  4632  \n",
       "3/17/20         31506    7699          8320  6421  \n",
       "3/18/20         35713    9105          8413  7783  "
      ]
     },
     "execution_count": 33,
     "metadata": {},
     "output_type": "execute_result"
    }
   ],
   "source": [
    "confirmed_st = ExtractState(confirmed_us, 'Texas', 'TX')\n",
    "confirmed_st['New York'] = ExtractState(confirmed_us, 'New York', 'NY')\n",
    "confirmed_st['California'] = ExtractState(confirmed_us, 'California', 'CA')\n",
    "confirmed_st['North Carolina'] = ExtractState(confirmed_us, 'North Carolina', 'NC')\n",
    "\n",
    "confirmed_st['Japan'] = confirmed['Japan']\n",
    "confirmed_st['Spain'] = confirmed['Spain']\n",
    "confirmed_st['Italy'] = confirmed['Italy']\n",
    "confirmed_st['France'] = confirmed['France']\n",
    "confirmed_st['Korea, South'] = confirmed['Korea, South']\n",
    "confirmed_st['US'] = confirmed['US']\n",
    "\n",
    "confirmed_st.tail()"
   ]
  },
  {
   "cell_type": "code",
   "execution_count": 34,
   "metadata": {},
   "outputs": [
    {
     "data": {
      "text/plain": [
       "<matplotlib.axes._subplots.AxesSubplot at 0x2111a757348>"
      ]
     },
     "execution_count": 34,
     "metadata": {},
     "output_type": "execute_result"
    },
    {
     "data": {
      "image/png": "[encoded data removed]",
      "text/plain": [
       "<Figure size 432x288 with 1 Axes>"
      ]
     },
     "metadata": {
      "needs_background": "light"
     },
     "output_type": "display_data"
    }
   ],
   "source": [
    "confirmed_st.tail(20).plot()\n"
   ]
  },
  {
   "cell_type": "code",
   "execution_count": 35,
   "metadata": {},
   "outputs": [
    {
     "data": {
      "text/plain": [
       "<matplotlib.axes._subplots.AxesSubplot at 0x2111a804c48>"
      ]
     },
     "execution_count": 35,
     "metadata": {},
     "output_type": "execute_result"
    },
    {
     "data": {
      "image/png": "[encoded data removed]",
      "text/plain": [
       "<Figure size 432x288 with 1 Axes>"
      ]
     },
     "metadata": {
      "needs_background": "light"
     },
     "output_type": "display_data"
    }
   ],
   "source": [
    "confirmed_st.apply(np.log).tail(15).plot()\n"
   ]
  },
  {
   "cell_type": "code",
   "execution_count": 36,
   "metadata": {},
   "outputs": [
    {
     "data": {
      "text/html": [
       "<div>\n",
       "<style scoped>\n",
       "    .dataframe tbody tr th:only-of-type {\n",
       "        vertical-align: middle;\n",
       "    }\n",
       "\n",
       "    .dataframe tbody tr th {\n",
       "        vertical-align: top;\n",
       "    }\n",
       "\n",
       "    .dataframe thead th {\n",
       "        text-align: right;\n",
       "    }\n",
       "</style>\n",
       "<table border=\"1\" class=\"dataframe\">\n",
       "  <thead>\n",
       "    <tr style=\"text-align: right;\">\n",
       "      <th>Province/State</th>\n",
       "      <th>Texas</th>\n",
       "      <th>New York</th>\n",
       "      <th>California</th>\n",
       "      <th>North Carolina</th>\n",
       "      <th>Japan</th>\n",
       "      <th>Spain</th>\n",
       "      <th>Italy</th>\n",
       "      <th>France</th>\n",
       "      <th>Korea, South</th>\n",
       "      <th>US</th>\n",
       "    </tr>\n",
       "  </thead>\n",
       "  <tbody>\n",
       "    <tr>\n",
       "      <td>3/9/20</td>\n",
       "      <td>2.564949</td>\n",
       "      <td>4.955827</td>\n",
       "      <td>4.615121</td>\n",
       "      <td>0.693147</td>\n",
       "      <td>6.236370</td>\n",
       "      <td>6.978214</td>\n",
       "      <td>9.123911</td>\n",
       "      <td>7.104144</td>\n",
       "      <td>8.919721</td>\n",
       "      <td>6.368187</td>\n",
       "    </tr>\n",
       "    <tr>\n",
       "      <td>3/10/20</td>\n",
       "      <td>2.564949</td>\n",
       "      <td>5.153292</td>\n",
       "      <td>4.969813</td>\n",
       "      <td>1.945910</td>\n",
       "      <td>6.364751</td>\n",
       "      <td>7.435438</td>\n",
       "      <td>9.225130</td>\n",
       "      <td>7.491088</td>\n",
       "      <td>8.924390</td>\n",
       "      <td>6.865891</td>\n",
       "    </tr>\n",
       "    <tr>\n",
       "      <td>3/11/20</td>\n",
       "      <td>3.044522</td>\n",
       "      <td>5.393628</td>\n",
       "      <td>5.176150</td>\n",
       "      <td>1.945910</td>\n",
       "      <td>6.459904</td>\n",
       "      <td>7.730614</td>\n",
       "      <td>9.430439</td>\n",
       "      <td>7.736307</td>\n",
       "      <td>8.956093</td>\n",
       "      <td>7.155396</td>\n",
       "    </tr>\n",
       "    <tr>\n",
       "      <td>3/12/20</td>\n",
       "      <td>3.295837</td>\n",
       "      <td>5.793014</td>\n",
       "      <td>5.398163</td>\n",
       "      <td>2.708050</td>\n",
       "      <td>6.459904</td>\n",
       "      <td>7.730614</td>\n",
       "      <td>9.430439</td>\n",
       "      <td>7.736307</td>\n",
       "      <td>8.970686</td>\n",
       "      <td>7.416378</td>\n",
       "    </tr>\n",
       "    <tr>\n",
       "      <td>3/13/20</td>\n",
       "      <td>3.761200</td>\n",
       "      <td>6.042633</td>\n",
       "      <td>5.641907</td>\n",
       "      <td>2.833213</td>\n",
       "      <td>6.552508</td>\n",
       "      <td>8.562549</td>\n",
       "      <td>9.779057</td>\n",
       "      <td>8.210124</td>\n",
       "      <td>8.984568</td>\n",
       "      <td>7.686621</td>\n",
       "    </tr>\n",
       "    <tr>\n",
       "      <td>3/14/20</td>\n",
       "      <td>4.043051</td>\n",
       "      <td>6.263398</td>\n",
       "      <td>5.828946</td>\n",
       "      <td>3.178054</td>\n",
       "      <td>6.650279</td>\n",
       "      <td>8.762646</td>\n",
       "      <td>9.959726</td>\n",
       "      <td>8.408940</td>\n",
       "      <td>8.997889</td>\n",
       "      <td>7.910957</td>\n",
       "    </tr>\n",
       "    <tr>\n",
       "      <td>3/15/20</td>\n",
       "      <td>4.276666</td>\n",
       "      <td>6.595781</td>\n",
       "      <td>6.054439</td>\n",
       "      <td>3.496508</td>\n",
       "      <td>6.732211</td>\n",
       "      <td>8.961623</td>\n",
       "      <td>10.116460</td>\n",
       "      <td>8.416931</td>\n",
       "      <td>9.007245</td>\n",
       "      <td>8.160232</td>\n",
       "    </tr>\n",
       "    <tr>\n",
       "      <td>3/16/20</td>\n",
       "      <td>4.442651</td>\n",
       "      <td>6.874198</td>\n",
       "      <td>6.322565</td>\n",
       "      <td>3.637586</td>\n",
       "      <td>6.715383</td>\n",
       "      <td>9.204523</td>\n",
       "      <td>10.239245</td>\n",
       "      <td>8.805075</td>\n",
       "      <td>9.016270</td>\n",
       "      <td>8.440744</td>\n",
       "    </tr>\n",
       "    <tr>\n",
       "      <td>3/17/20</td>\n",
       "      <td>4.700480</td>\n",
       "      <td>7.441907</td>\n",
       "      <td>6.548219</td>\n",
       "      <td>4.158883</td>\n",
       "      <td>6.777647</td>\n",
       "      <td>9.371438</td>\n",
       "      <td>10.357933</td>\n",
       "      <td>8.948846</td>\n",
       "      <td>9.026418</td>\n",
       "      <td>8.767329</td>\n",
       "    </tr>\n",
       "    <tr>\n",
       "      <td>3/18/20</td>\n",
       "      <td>5.153292</td>\n",
       "      <td>7.822044</td>\n",
       "      <td>6.621406</td>\n",
       "      <td>4.248495</td>\n",
       "      <td>6.790097</td>\n",
       "      <td>9.540363</td>\n",
       "      <td>10.483270</td>\n",
       "      <td>9.116579</td>\n",
       "      <td>9.037533</td>\n",
       "      <td>8.959697</td>\n",
       "    </tr>\n",
       "  </tbody>\n",
       "</table>\n",
       "</div>"
      ],
      "text/plain": [
       "Province/State     Texas  New York  California  North Carolina     Japan  \\\n",
       "3/9/20          2.564949  4.955827    4.615121        0.693147  6.236370   \n",
       "3/10/20         2.564949  5.153292    4.969813        1.945910  6.364751   \n",
       "3/11/20         3.044522  5.393628    5.176150        1.945910  6.459904   \n",
       "3/12/20         3.295837  5.793014    5.398163        2.708050  6.459904   \n",
       "3/13/20         3.761200  6.042633    5.641907        2.833213  6.552508   \n",
       "3/14/20         4.043051  6.263398    5.828946        3.178054  6.650279   \n",
       "3/15/20         4.276666  6.595781    6.054439        3.496508  6.732211   \n",
       "3/16/20         4.442651  6.874198    6.322565        3.637586  6.715383   \n",
       "3/17/20         4.700480  7.441907    6.548219        4.158883  6.777647   \n",
       "3/18/20         5.153292  7.822044    6.621406        4.248495  6.790097   \n",
       "\n",
       "Province/State     Spain      Italy    France  Korea, South        US  \n",
       "3/9/20          6.978214   9.123911  7.104144      8.919721  6.368187  \n",
       "3/10/20         7.435438   9.225130  7.491088      8.924390  6.865891  \n",
       "3/11/20         7.730614   9.430439  7.736307      8.956093  7.155396  \n",
       "3/12/20         7.730614   9.430439  7.736307      8.970686  7.416378  \n",
       "3/13/20         8.562549   9.779057  8.210124      8.984568  7.686621  \n",
       "3/14/20         8.762646   9.959726  8.408940      8.997889  7.910957  \n",
       "3/15/20         8.961623  10.116460  8.416931      9.007245  8.160232  \n",
       "3/16/20         9.204523  10.239245  8.805075      9.016270  8.440744  \n",
       "3/17/20         9.371438  10.357933  8.948846      9.026418  8.767329  \n",
       "3/18/20         9.540363  10.483270  9.116579      9.037533  8.959697  "
      ]
     },
     "execution_count": 36,
     "metadata": {},
     "output_type": "execute_result"
    }
   ],
   "source": [
    "confirmed_st.apply(np.log).tail(10)\n"
   ]
  },
  {
   "cell_type": "code",
   "execution_count": 43,
   "metadata": {},
   "outputs": [],
   "source": [
    "def fit_model(df, which, n):\n",
    "    df.index = pd.to_datetime(confirmed_st.index)\n",
    "\n",
    "    logdf = df.apply(np.log).tail(n)\n",
    "\n",
    "    x = np.arange(n)\n",
    "    y = logdf[which].values\n",
    "\n",
    "    reg = np.polyfit( x,y,1 )\n",
    "    fit_fn = np.poly1d(reg)\n",
    "\n",
    "    plt.plot(x, np.exp(y) )\n",
    "    plt.plot(x, np.exp(fit_fn(x) ) )\n",
    "    plt.title('{} {}'.format(which, reg))\n",
    "    \n"
   ]
  },
  {
   "cell_type": "code",
   "execution_count": 45,
   "metadata": {},
   "outputs": [
    {
     "data": {
      "image/png": "[encoded data removed]",
      "text/plain": [
       "<Figure size 432x288 with 1 Axes>"
      ]
     },
     "metadata": {
      "needs_background": "light"
     },
     "output_type": "display_data"
    },
    {
     "data": {
      "image/png": "[encoded data removed]",
      "text/plain": [
       "<Figure size 432x288 with 1 Axes>"
      ]
     },
     "metadata": {
      "needs_background": "light"
     },
     "output_type": "display_data"
    },
    {
     "data": {
      "image/png": "[encoded data removed]",
      "text/plain": [
       "<Figure size 432x288 with 1 Axes>"
      ]
     },
     "metadata": {
      "needs_background": "light"
     },
     "output_type": "display_data"
    },
    {
     "data": {
      "image/png": "[encoded data removed]",
      "text/plain": [
       "<Figure size 432x288 with 1 Axes>"
      ]
     },
     "metadata": {
      "needs_background": "light"
     },
     "output_type": "display_data"
    },
    {
     "data": {
      "image/png": "[encoded data removed]",
      "text/plain": [
       "<Figure size 432x288 with 1 Axes>"
      ]
     },
     "metadata": {
      "needs_background": "light"
     },
     "output_type": "display_data"
    }
   ],
   "source": [
    "\n",
    "fit_model(confirmed_st, 'New York', 10)\n",
    "plt.show()\n",
    "fit_model(confirmed_st, 'North Carolina', 10)\n",
    "plt.show()\n",
    "fit_model(confirmed_st, 'California', 10)\n",
    "plt.show()\n",
    "fit_model(confirmed_st, 'Spain', 10)\n",
    "plt.show()\n",
    "fit_model(confirmed_st, 'Italy', 10)\n",
    "plt.show()"
   ]
  }
 ],
 "metadata": {
  "kernelspec": {
   "display_name": "Python 3",
   "language": "python",
   "name": "python3"
  },
  "language_info": {
   "codemirror_mode": {
    "name": "ipython",
    "version": 3
   },
   "file_extension": ".py",
   "mimetype": "text/x-python",
   "name": "python",
   "nbconvert_exporter": "python",
   "pygments_lexer": "ipython3",
   "version": "3.7.4"
  }
 },
 "nbformat": 4,
 "nbformat_minor": 2
}
