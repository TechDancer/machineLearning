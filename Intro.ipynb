{
 "cells": [
  {
   "cell_type": "markdown",
   "metadata": {},
   "source": [
    "# Doug's Machine Learning Notebooks\n",
    "\n",
    "I'm new to machine learning.  I was somehow inspired and started on my journey.  I started with Andrew Ng's coursera free course and have been putting up example exercises and analysis on here.\n",
    "\n",
    "- <a href='SimpleRegressionML.ipynb'>Linear Regression</a>\n",
    "- <a href='LogisticalRegression.ipynb'>Logistical Regression</a>\n",
    "- <a href='FeatureEngineering.ipynb'>Feature Engineering</a>\n",
    "- <a href='TensorFlow.ipynb'>Testing Google TensorFlow</a>\n",
    "\n",
    "\n"
   ]
  },
  {
   "cell_type": "code",
   "execution_count": null,
   "metadata": {},
   "outputs": [],
   "source": []
  }
 ],
 "metadata": {
  "kernelspec": {
   "display_name": "Python 3",
   "language": "python",
   "name": "python3"
  },
  "language_info": {
   "codemirror_mode": {
    "name": "ipython",
    "version": 3
   },
   "file_extension": ".py",
   "mimetype": "text/x-python",
   "name": "python",
   "nbconvert_exporter": "python",
   "pygments_lexer": "ipython3",
   "version": "3.6.4"
  }
 },
 "nbformat": 4,
 "nbformat_minor": 2
}
