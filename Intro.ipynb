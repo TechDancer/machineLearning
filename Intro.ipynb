{
 "cells": [
  {
   "cell_type": "markdown",
   "metadata": {},
   "source": [
    "# Doug's Machine Learning Notebooks\n",
    "\n",
    "I'm new to machine learning.  I was somehow inspired and started on my journey.  I started with Andrew Ng's coursera free course and have been putting up example exercises and analysis on here.\n",
    "\n",
    "- <a href='SimpleRegressionML.ipynb'>Linear Regression</a>\n",
    "- <a href='LogisticalRegression.ipynb'>Logistical Regression</a>\n",
    "- <a href='FeatureEngineering.ipynb'>Feature Engineering</a>\n",
    "- <a href='TensorFlow.ipynb'>Evaluating Google TensorFlow</a>\n",
    "\n",
    "Next planned sections:\n",
    "- GPU vs CPU vs TPU evaluation\n",
    "- Experience with PyTorch\n",
    "- Experience with Amazon's Sage Maker\n",
    "- Experience with Microsoft ML Studio\n",
    "- Experience with h2o.ai\n",
    "\n",
    "- Real world problems to solve / experiement with\n",
    "\n",
    "\n"
   ]
  },
  {
   "cell_type": "code",
   "execution_count": null,
   "metadata": {},
   "outputs": [],
   "source": []
  }
 ],
 "metadata": {
  "kernelspec": {
   "display_name": "Python 2",
   "language": "python",
   "name": "python2"
  },
  "language_info": {
   "codemirror_mode": {
    "name": "ipython",
    "version": 2
   },
   "file_extension": ".py",
   "mimetype": "text/x-python",
   "name": "python",
   "nbconvert_exporter": "python",
   "pygments_lexer": "ipython2",
   "version": "2.7.14"
  }
 },
 "nbformat": 4,
 "nbformat_minor": 2
}
