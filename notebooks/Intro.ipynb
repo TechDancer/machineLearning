{
 "cells": [
  {
   "cell_type": "markdown",
   "metadata": {},
   "source": [
    "# Doug's Machine Learning Notebooks\n",
    "\n",
    "I'm new to machine learning.  I was somehow inspired and started on my journey.  I started with Andrew Ng's coursera free course and have been putting up example exercises and analysis on here.\n",
    "\n",
    "- <a href='SimpleRegressionML.ipynb'>Linear Regression</a>\n",
    "- <a href='LogisticalRegression.ipynb'>Logistical Regression</a>\n",
    "- <a href='FeatureEngineering.ipynb'>Feature Engineering</a>\n",
    "- <a href='TensorFlow.ipynb'>Evaluating Google TensorFlow</a>\n",
    "- <a href='PyTorch.ipynb'>Evaluating PyTorch and Neural Nets</a>\n",
    "\n",
    "Next planned sections:\n",
    "- <a href='Mxnet-Gluon.ipynb'>MxNet, Gluon, etc etc - Framework Overview</a>\n",
    "- Experience with Amazon's Sage Maker\n",
    "- Experience with Microsoft Azure ML Studio & CNTK\n",
    "- Practical Implementation - XGBoost and Random Forests\n",
    "- Advanced Neural Networks - GANS, CNN, RNN \n",
    "- Experience with h2o.ai\n",
    "- Real world problems to solve / experiement with\n",
    "- GPU vs CPU vs TPU evaluation\n",
    "\n",
    "Other key things I have been reading/watching:\n",
    "- Lectures from folks like Ian Goodfellow and other Conference speakers\n",
    "- Coursera's deeplearning.ai series (Andrew Ng's next courses)\n",
    "- Considering the fast.ai series (but prob hold off for a bit as I am in course overload)\n",
    "- Various blogs on Medium and following some of the famous folks on Twitter like Jeff Dean\n",
    "- Listening to Data Skeptic and ThisWeekInMachineLearningAndAI(TwimlAI) podcasts\n",
    "- Random Youtube views not excluding Siraj Raval\n",
    "\n",
    "Things I haven't done, but am considering:\n",
    "- Getting on Kaggle for a competition\n",
    "- Starting a Blog\n",
    "\n",
    "\n",
    "\n"
   ]
  },
  {
   "cell_type": "code",
   "execution_count": null,
   "metadata": {},
   "outputs": [],
   "source": []
  }
 ],
 "metadata": {
  "kernelspec": {
   "display_name": "Python 3",
   "language": "python",
   "name": "python3"
  },
  "language_info": {
   "codemirror_mode": {
    "name": "ipython",
    "version": 3
   },
   "file_extension": ".py",
   "mimetype": "text/x-python",
   "name": "python",
   "nbconvert_exporter": "python",
   "pygments_lexer": "ipython3",
   "version": "3.6.4"
  }
 },
 "nbformat": 4,
 "nbformat_minor": 2
}
