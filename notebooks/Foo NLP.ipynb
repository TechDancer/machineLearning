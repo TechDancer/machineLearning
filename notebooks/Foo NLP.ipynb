{
 "cells": [
  {
   "cell_type": "markdown",
   "metadata": {},
   "source": [
    "# Foo NLP -- Hand Crafted Step by Step NLP w/o Libraries\n",
    "### Kind of reinventing the wheel, but a way to learn"
   ]
  },
  {
   "cell_type": "code",
   "execution_count": 5,
   "metadata": {},
   "outputs": [],
   "source": [
    "text = [\n",
    " \"Clean word one two three\",\n",
    " \"Some word with special character accents like naïve bayes algorithm\",\n",
    " \"Some text with specials like $money and mom's @honolulu marathon !!\",\n",
    " \"Don't shoot what was shooting; shot at or shoots at?\",\n",
    " \"Susan Li in Towards Data Science - Dec 8, 2019.  Multi Class Text Classification with LSTM using TensorFlow 2.0\",\n",
    " \"Latent Semantic Analysis (LSA) is a theory and method for extracting and representing the contextual-usage meaning of words by statistical computations applied to a large corpus of text.\"\n",
    "]\n"
   ]
  },
  {
   "cell_type": "markdown",
   "metadata": {},
   "source": [
    "## Steps in process:\n",
    "\n",
    " \n"
   ]
  }
 ],
 "metadata": {
  "kernelspec": {
   "display_name": "Python 3",
   "language": "python",
   "name": "python3"
  },
  "language_info": {
   "codemirror_mode": {
    "name": "ipython",
    "version": 3
   },
   "file_extension": ".py",
   "mimetype": "text/x-python",
   "name": "python",
   "nbconvert_exporter": "python",
   "pygments_lexer": "ipython3",
   "version": "3.7.4"
  }
 },
 "nbformat": 4,
 "nbformat_minor": 2
}
